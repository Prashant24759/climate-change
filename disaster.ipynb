{
 "metadata": {
  "language_info": {
   "codemirror_mode": {
    "name": "ipython",
    "version": 3
   },
   "file_extension": ".py",
   "mimetype": "text/x-python",
   "name": "python",
   "nbconvert_exporter": "python",
   "pygments_lexer": "ipython3",
   "version": "3.7.3"
  },
  "orig_nbformat": 2,
  "kernelspec": {
   "name": "python373jvsc74a57bd02b9cd5c3ec4eb793e30b3fe22fb3034f3d8c9722bad10f4cedbbd7faa7e7f261",
   "display_name": "Python 3.7.3 64-bit ('base': conda)"
  }
 },
 "nbformat": 4,
 "nbformat_minor": 2,
 "cells": [
  {
   "cell_type": "code",
   "execution_count": 4,
   "metadata": {},
   "outputs": [],
   "source": [
    "import pandas as pd"
   ]
  },
  {
   "cell_type": "code",
   "execution_count": 5,
   "metadata": {},
   "outputs": [],
   "source": [
    "df = pd.read_csv('dataset/natural-disaster-events.csv')"
   ]
  },
  {
   "cell_type": "code",
   "execution_count": 6,
   "metadata": {},
   "outputs": [
    {
     "output_type": "execute_result",
     "data": {
      "text/plain": [
       "                   Entity  Code  Year  \\\n",
       "0   All natural disasters     0   119   \n",
       "1                 Drought     0    73   \n",
       "2              Earthquake     0   115   \n",
       "3     Extreme temperature     0    57   \n",
       "4         Extreme weather     0   115   \n",
       "5                   Flood     0    95   \n",
       "6                  Impact     0     1   \n",
       "7               Landslide     0    80   \n",
       "8     Mass movement (dry)     0    33   \n",
       "9       Volcanic activity     0    78   \n",
       "10               Wildfire     0    62   \n",
       "\n",
       "    Number of reported natural disasters (reported disasters)  \n",
       "0                                                 119          \n",
       "1                                                  73          \n",
       "2                                                 115          \n",
       "3                                                  57          \n",
       "4                                                 115          \n",
       "5                                                  95          \n",
       "6                                                   1          \n",
       "7                                                  80          \n",
       "8                                                  33          \n",
       "9                                                  78          \n",
       "10                                                 62          "
      ],
      "text/html": "<div>\n<style scoped>\n    .dataframe tbody tr th:only-of-type {\n        vertical-align: middle;\n    }\n\n    .dataframe tbody tr th {\n        vertical-align: top;\n    }\n\n    .dataframe thead th {\n        text-align: right;\n    }\n</style>\n<table border=\"1\" class=\"dataframe\">\n  <thead>\n    <tr style=\"text-align: right;\">\n      <th></th>\n      <th>Entity</th>\n      <th>Code</th>\n      <th>Year</th>\n      <th>Number of reported natural disasters (reported disasters)</th>\n    </tr>\n  </thead>\n  <tbody>\n    <tr>\n      <th>0</th>\n      <td>All natural disasters</td>\n      <td>0</td>\n      <td>119</td>\n      <td>119</td>\n    </tr>\n    <tr>\n      <th>1</th>\n      <td>Drought</td>\n      <td>0</td>\n      <td>73</td>\n      <td>73</td>\n    </tr>\n    <tr>\n      <th>2</th>\n      <td>Earthquake</td>\n      <td>0</td>\n      <td>115</td>\n      <td>115</td>\n    </tr>\n    <tr>\n      <th>3</th>\n      <td>Extreme temperature</td>\n      <td>0</td>\n      <td>57</td>\n      <td>57</td>\n    </tr>\n    <tr>\n      <th>4</th>\n      <td>Extreme weather</td>\n      <td>0</td>\n      <td>115</td>\n      <td>115</td>\n    </tr>\n    <tr>\n      <th>5</th>\n      <td>Flood</td>\n      <td>0</td>\n      <td>95</td>\n      <td>95</td>\n    </tr>\n    <tr>\n      <th>6</th>\n      <td>Impact</td>\n      <td>0</td>\n      <td>1</td>\n      <td>1</td>\n    </tr>\n    <tr>\n      <th>7</th>\n      <td>Landslide</td>\n      <td>0</td>\n      <td>80</td>\n      <td>80</td>\n    </tr>\n    <tr>\n      <th>8</th>\n      <td>Mass movement (dry)</td>\n      <td>0</td>\n      <td>33</td>\n      <td>33</td>\n    </tr>\n    <tr>\n      <th>9</th>\n      <td>Volcanic activity</td>\n      <td>0</td>\n      <td>78</td>\n      <td>78</td>\n    </tr>\n    <tr>\n      <th>10</th>\n      <td>Wildfire</td>\n      <td>0</td>\n      <td>62</td>\n      <td>62</td>\n    </tr>\n  </tbody>\n</table>\n</div>"
     },
     "metadata": {},
     "execution_count": 6
    }
   ],
   "source": [
    "df.groupby('Entity', as_index=False).count()"
   ]
  },
  {
   "cell_type": "code",
   "execution_count": 10,
   "metadata": {},
   "outputs": [],
   "source": [
    "df.rename(columns={df.columns[-1] : 'disasters'}, inplace=True)"
   ]
  },
  {
   "cell_type": "code",
   "execution_count": 11,
   "metadata": {},
   "outputs": [
    {
     "output_type": "execute_result",
     "data": {
      "text/plain": [
       "Year\n",
       "1900     5\n",
       "1901     2\n",
       "1902     9\n",
       "1903     8\n",
       "1904     2\n",
       "        ..\n",
       "2014     4\n",
       "2015    12\n",
       "2016    10\n",
       "2017    13\n",
       "2018    10\n",
       "Name: disasters, Length: 828, dtype: int64"
      ]
     },
     "metadata": {},
     "execution_count": 11
    }
   ],
   "source": [
    "df.set_index('Year')['disasters']"
   ]
  },
  {
   "cell_type": "code",
   "execution_count": null,
   "metadata": {},
   "outputs": [],
   "source": []
  }
 ]
}