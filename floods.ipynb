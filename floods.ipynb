{
 "metadata": {
  "language_info": {
   "codemirror_mode": {
    "name": "ipython",
    "version": 3
   },
   "file_extension": ".py",
   "mimetype": "text/x-python",
   "name": "python",
   "nbconvert_exporter": "python",
   "pygments_lexer": "ipython3",
   "version": "3.7.3"
  },
  "orig_nbformat": 2,
  "kernelspec": {
   "name": "python373jvsc74a57bd02b9cd5c3ec4eb793e30b3fe22fb3034f3d8c9722bad10f4cedbbd7faa7e7f261",
   "display_name": "Python 3.7.3 64-bit ('base': conda)"
  }
 },
 "nbformat": 4,
 "nbformat_minor": 2,
 "cells": [
  {
   "cell_type": "code",
   "execution_count": 1,
   "metadata": {},
   "outputs": [],
   "source": [
    "import pandas as pd"
   ]
  },
  {
   "cell_type": "code",
   "execution_count": 3,
   "metadata": {},
   "outputs": [
    {
     "output_type": "stream",
     "name": "stdout",
     "text": [
      "WARNING *** OLE2 inconsistency: SSCS size is 0 but SSAT size is non-zero\n"
     ]
    }
   ],
   "source": [
    "df = pd.read_excel('dataset/flood_damage.xls')"
   ]
  },
  {
   "cell_type": "code",
   "execution_count": 4,
   "metadata": {},
   "outputs": [
    {
     "output_type": "execute_result",
     "data": {
      "text/plain": [
       "  Sl.No\\n - India  Year  Area affected in m.ha. - India  \\\n",
       "0               1  1953                            2.29   \n",
       "1               2  1954                            7.49   \n",
       "2               3  1955                            9.44   \n",
       "3               4  1956                            9.24   \n",
       "4               5  1957                            4.86   \n",
       "\n",
       "   Population affected in million - India  \\\n",
       "0                                   24.28   \n",
       "1                                   12.92   \n",
       "2                                   25.27   \n",
       "3                                   14.57   \n",
       "4                                    6.76   \n",
       "\n",
       "   Damage to Crops - Area in m. ha. - India  \\\n",
       "0                                      0.93   \n",
       "1                                      2.61   \n",
       "2                                      5.31   \n",
       "3                                      1.11   \n",
       "4                                      0.45   \n",
       "\n",
       "   Damage to Crops - Value in Rs.Crore - India  \\\n",
       "0                                        42.08   \n",
       "1                                        40.52   \n",
       "2                                        77.80   \n",
       "3                                        44.44   \n",
       "4                                        14.12   \n",
       "\n",
       "   Damage to Houses - Nos. - India  \\\n",
       "0                           264924   \n",
       "1                           199984   \n",
       "2                          1666789   \n",
       "3                           725776   \n",
       "4                           318149   \n",
       "\n",
       "   Damage to Houses - Value in Rs.Crore - India  Cattle Lost Nos. - India  \\\n",
       "0                                         7.420                     47034   \n",
       "1                                         6.561                     22552   \n",
       "2                                        20.945                     72010   \n",
       "3                                         8.047                     16108   \n",
       "4                                         4.979                      7433   \n",
       "\n",
       "   Human live Lost Nos. - India  ...  Area affected in m.ha. - Bihar  \\\n",
       "0                            37  ...                            0.97   \n",
       "1                           279  ...                            2.50   \n",
       "2                           865  ...                            1.77   \n",
       "3                           462  ...                            1.32   \n",
       "4                           352  ...                            0.79   \n",
       "\n",
       "   Population affected in million - Bihar  \\\n",
       "0                                    6.77   \n",
       "1                                    7.67   \n",
       "2                                    7.11   \n",
       "3                                    3.12   \n",
       "4                                    1.73   \n",
       "\n",
       "   Damage to Crops - Area in m. ha. - Bihar  \\\n",
       "0                                      0.93   \n",
       "1                                      1.59   \n",
       "2                                      1.01   \n",
       "3                                       0.4   \n",
       "4                                       0.3   \n",
       "\n",
       "   Damage to Crops - Value in Rs.Crore - Bihar  \\\n",
       "0                                           29   \n",
       "1                                           15   \n",
       "2                                         20.3   \n",
       "3                                         5.22   \n",
       "4                                          Neg   \n",
       "\n",
       "   Damage to Houses - Nos. - Bihar  \\\n",
       "0                           184300   \n",
       "1                           179451   \n",
       "2                           111356   \n",
       "3                            79879   \n",
       "4                            18812   \n",
       "\n",
       "   Damage to Houses - Value in Rs.Crore - Bihar  Cattle Lost Nos. - Bihar  \\\n",
       "0                                             6                        33   \n",
       "1                                             5                      1944   \n",
       "2                                          1.12                        57   \n",
       "3                                          0.51                       138   \n",
       "4                                           Neg                        18   \n",
       "\n",
       "   Human live Lost Nos. - Bihar  \\\n",
       "0                             5   \n",
       "1                            63   \n",
       "2                            44   \n",
       "3                            32   \n",
       "4                             7   \n",
       "\n",
       "   Damage to Public Utilities in Rs.Crore - Bihar  \\\n",
       "0                                             1.5   \n",
       "1                                             1.5   \n",
       "2                                           0.205   \n",
       "3                                             Nil   \n",
       "4                                             Nil   \n",
       "\n",
       "   Total damages Crops, Houses & Public utilities in Rs.Crore (col.6+8+11) - Bihar  \n",
       "0                                               36.5                                \n",
       "1                                               21.5                                \n",
       "2                                             21.625                                \n",
       "3                                               5.73                                \n",
       "4                                                Neg                                \n",
       "\n",
       "[5 rows x 42 columns]"
      ],
      "text/html": "<div>\n<style scoped>\n    .dataframe tbody tr th:only-of-type {\n        vertical-align: middle;\n    }\n\n    .dataframe tbody tr th {\n        vertical-align: top;\n    }\n\n    .dataframe thead th {\n        text-align: right;\n    }\n</style>\n<table border=\"1\" class=\"dataframe\">\n  <thead>\n    <tr style=\"text-align: right;\">\n      <th></th>\n      <th>Sl.No\\n - India</th>\n      <th>Year</th>\n      <th>Area affected in m.ha. - India</th>\n      <th>Population affected in million - India</th>\n      <th>Damage to Crops - Area in m. ha. - India</th>\n      <th>Damage to Crops - Value in Rs.Crore - India</th>\n      <th>Damage to Houses - Nos. - India</th>\n      <th>Damage to Houses - Value in Rs.Crore - India</th>\n      <th>Cattle Lost Nos. - India</th>\n      <th>Human live Lost Nos. - India</th>\n      <th>...</th>\n      <th>Area affected in m.ha. - Bihar</th>\n      <th>Population affected in million - Bihar</th>\n      <th>Damage to Crops - Area in m. ha. - Bihar</th>\n      <th>Damage to Crops - Value in Rs.Crore - Bihar</th>\n      <th>Damage to Houses - Nos. - Bihar</th>\n      <th>Damage to Houses - Value in Rs.Crore - Bihar</th>\n      <th>Cattle Lost Nos. - Bihar</th>\n      <th>Human live Lost Nos. - Bihar</th>\n      <th>Damage to Public Utilities in Rs.Crore - Bihar</th>\n      <th>Total damages Crops, Houses &amp; Public utilities in Rs.Crore (col.6+8+11) - Bihar</th>\n    </tr>\n  </thead>\n  <tbody>\n    <tr>\n      <th>0</th>\n      <td>1</td>\n      <td>1953</td>\n      <td>2.29</td>\n      <td>24.28</td>\n      <td>0.93</td>\n      <td>42.08</td>\n      <td>264924</td>\n      <td>7.420</td>\n      <td>47034</td>\n      <td>37</td>\n      <td>...</td>\n      <td>0.97</td>\n      <td>6.77</td>\n      <td>0.93</td>\n      <td>29</td>\n      <td>184300</td>\n      <td>6</td>\n      <td>33</td>\n      <td>5</td>\n      <td>1.5</td>\n      <td>36.5</td>\n    </tr>\n    <tr>\n      <th>1</th>\n      <td>2</td>\n      <td>1954</td>\n      <td>7.49</td>\n      <td>12.92</td>\n      <td>2.61</td>\n      <td>40.52</td>\n      <td>199984</td>\n      <td>6.561</td>\n      <td>22552</td>\n      <td>279</td>\n      <td>...</td>\n      <td>2.50</td>\n      <td>7.67</td>\n      <td>1.59</td>\n      <td>15</td>\n      <td>179451</td>\n      <td>5</td>\n      <td>1944</td>\n      <td>63</td>\n      <td>1.5</td>\n      <td>21.5</td>\n    </tr>\n    <tr>\n      <th>2</th>\n      <td>3</td>\n      <td>1955</td>\n      <td>9.44</td>\n      <td>25.27</td>\n      <td>5.31</td>\n      <td>77.80</td>\n      <td>1666789</td>\n      <td>20.945</td>\n      <td>72010</td>\n      <td>865</td>\n      <td>...</td>\n      <td>1.77</td>\n      <td>7.11</td>\n      <td>1.01</td>\n      <td>20.3</td>\n      <td>111356</td>\n      <td>1.12</td>\n      <td>57</td>\n      <td>44</td>\n      <td>0.205</td>\n      <td>21.625</td>\n    </tr>\n    <tr>\n      <th>3</th>\n      <td>4</td>\n      <td>1956</td>\n      <td>9.24</td>\n      <td>14.57</td>\n      <td>1.11</td>\n      <td>44.44</td>\n      <td>725776</td>\n      <td>8.047</td>\n      <td>16108</td>\n      <td>462</td>\n      <td>...</td>\n      <td>1.32</td>\n      <td>3.12</td>\n      <td>0.4</td>\n      <td>5.22</td>\n      <td>79879</td>\n      <td>0.51</td>\n      <td>138</td>\n      <td>32</td>\n      <td>Nil</td>\n      <td>5.73</td>\n    </tr>\n    <tr>\n      <th>4</th>\n      <td>5</td>\n      <td>1957</td>\n      <td>4.86</td>\n      <td>6.76</td>\n      <td>0.45</td>\n      <td>14.12</td>\n      <td>318149</td>\n      <td>4.979</td>\n      <td>7433</td>\n      <td>352</td>\n      <td>...</td>\n      <td>0.79</td>\n      <td>1.73</td>\n      <td>0.3</td>\n      <td>Neg</td>\n      <td>18812</td>\n      <td>Neg</td>\n      <td>18</td>\n      <td>7</td>\n      <td>Nil</td>\n      <td>Neg</td>\n    </tr>\n  </tbody>\n</table>\n<p>5 rows × 42 columns</p>\n</div>"
     },
     "metadata": {},
     "execution_count": 4
    }
   ],
   "source": [
    "df.head()"
   ]
  },
  {
   "cell_type": "code",
   "execution_count": 8,
   "metadata": {},
   "outputs": [
    {
     "output_type": "execute_result",
     "data": {
      "text/plain": [
       "Index(['Sl.No\\n - India', 'Year', 'Area affected in m.ha. - India',\n",
       "       'Population affected in million - India',\n",
       "       'Damage to Crops - Area in m. ha. - India',\n",
       "       'Damage to Crops - Value in Rs.Crore - India',\n",
       "       'Damage to Houses - Nos. - India',\n",
       "       'Damage to Houses - Value in Rs.Crore - India',\n",
       "       'Cattle Lost Nos. - India', 'Human live Lost Nos. - India',\n",
       "       'Damage to Public Utilities in Rs.Crore - India',\n",
       "       'Total Damages Crops, Houses & Public utilities in Rs.Crore (col.6+8+11) - India',\n",
       "       'Area affected in m.ha. - Uttar Pradesh',\n",
       "       'Population affected in million - Uttar Pradesh',\n",
       "       'Damage to Crops - Area in m. ha. - Uttar Pradesh',\n",
       "       'Damage to Crops - Value in Rs.Crore - Uttar Pradesh',\n",
       "       'Damage to Houses - Nos. - Uttar Pradesh',\n",
       "       'Damage to Houses - Value in Rs.Crore - Uttar Pradesh',\n",
       "       'Cattle Lost Nos. - Uttar Pradesh',\n",
       "       'Human live Lost Nos. - Uttar Pradesh',\n",
       "       'Damage to Public Utilities in Rs.Crore - Uttar Pradesh',\n",
       "       'Total damages Crops, Houses & Public utilities in Rs.Crore (col.6+8+11) - Uttar Pradesh',\n",
       "       'Area affected in m.ha. - Madhya Pradesh',\n",
       "       'Population affected in million - Madhya Pradesh',\n",
       "       'Damage to Crops - Area in m. ha. - Madhya Pradesh',\n",
       "       'Damage to Crops - Value in Rs.Crore - Madhya Pradesh',\n",
       "       'Damage to Houses - Nos. - Madhya Pradesh',\n",
       "       'Damage to Houses - Value in Rs.Crore - Madhya Pradesh',\n",
       "       'Cattle Lost Nos. - Madhya Pradesh',\n",
       "       'Human live Lost Nos. - Madhya Pradesh',\n",
       "       'Damage to Public Utilities in Rs.Crore - Madhya Pradesh',\n",
       "       'Total damages Crops, Houses & Public utilities in Rs.Crore (col.6+8+11) - Madhya Pradesh',\n",
       "       'Area affected in m.ha. - Bihar',\n",
       "       'Population affected in million - Bihar',\n",
       "       'Damage to Crops - Area in m. ha. - Bihar',\n",
       "       'Damage to Crops - Value in Rs.Crore - Bihar',\n",
       "       'Damage to Houses - Nos. - Bihar',\n",
       "       'Damage to Houses - Value in Rs.Crore - Bihar',\n",
       "       'Cattle Lost Nos. - Bihar', 'Human live Lost Nos. - Bihar',\n",
       "       'Damage to Public Utilities in Rs.Crore - Bihar',\n",
       "       'Total damages Crops, Houses & Public utilities in Rs.Crore (col.6+8+11) - Bihar'],\n",
       "      dtype='object')"
      ]
     },
     "metadata": {},
     "execution_count": 8
    }
   ],
   "source": [
    "df.columns"
   ]
  },
  {
   "cell_type": "code",
   "execution_count": null,
   "metadata": {},
   "outputs": [],
   "source": []
  }
 ]
}