{
 "metadata": {
  "language_info": {
   "codemirror_mode": {
    "name": "ipython",
    "version": 3
   },
   "file_extension": ".py",
   "mimetype": "text/x-python",
   "name": "python",
   "nbconvert_exporter": "python",
   "pygments_lexer": "ipython3",
   "version": "3.9.1"
  },
  "orig_nbformat": 2,
  "kernelspec": {
   "name": "python391jvsc74a57bd0eb46296dad870af0d9c01f7eafe75df3b3bf78460e70938634c320dcb920b6f3",
   "display_name": "Python 3.9.1 64-bit"
  },
  "metadata": {
   "interpreter": {
    "hash": "eb46296dad870af0d9c01f7eafe75df3b3bf78460e70938634c320dcb920b6f3"
   }
  }
 },
 "nbformat": 4,
 "nbformat_minor": 2,
 "cells": [
  {
   "cell_type": "code",
   "execution_count": 2,
   "metadata": {},
   "outputs": [],
   "source": [
    "import pandas as pd"
   ]
  },
  {
   "cell_type": "code",
   "execution_count": 3,
   "metadata": {},
   "outputs": [
    {
     "output_type": "stream",
     "name": "stdout",
     "text": [
      "WARNING *** OLE2 inconsistency: SSCS size is 0 but SSAT size is non-zero\n"
     ]
    }
   ],
   "source": [
    "df = pd.read_excel('dataset/flood_damage.xls')"
   ]
  },
  {
   "cell_type": "code",
   "execution_count": 4,
   "metadata": {},
   "outputs": [
    {
     "output_type": "execute_result",
     "data": {
      "text/plain": [
       "  Sl.No\\n - India  Year  Area affected in m.ha. - India  \\\n",
       "0               1  1953                            2.29   \n",
       "1               2  1954                            7.49   \n",
       "2               3  1955                            9.44   \n",
       "3               4  1956                            9.24   \n",
       "4               5  1957                            4.86   \n",
       "\n",
       "   Population affected in million - India  \\\n",
       "0                                   24.28   \n",
       "1                                   12.92   \n",
       "2                                   25.27   \n",
       "3                                   14.57   \n",
       "4                                    6.76   \n",
       "\n",
       "   Damage to Crops - Area in m. ha. - India  \\\n",
       "0                                      0.93   \n",
       "1                                      2.61   \n",
       "2                                      5.31   \n",
       "3                                      1.11   \n",
       "4                                      0.45   \n",
       "\n",
       "   Damage to Crops - Value in Rs.Crore - India  \\\n",
       "0                                        42.08   \n",
       "1                                        40.52   \n",
       "2                                        77.80   \n",
       "3                                        44.44   \n",
       "4                                        14.12   \n",
       "\n",
       "   Damage to Houses - Nos. - India  \\\n",
       "0                           264924   \n",
       "1                           199984   \n",
       "2                          1666789   \n",
       "3                           725776   \n",
       "4                           318149   \n",
       "\n",
       "   Damage to Houses - Value in Rs.Crore - India  Cattle Lost Nos. - India  \\\n",
       "0                                         7.420                     47034   \n",
       "1                                         6.561                     22552   \n",
       "2                                        20.945                     72010   \n",
       "3                                         8.047                     16108   \n",
       "4                                         4.979                      7433   \n",
       "\n",
       "   Human live Lost Nos. - India  ...  Area affected in m.ha. - Bihar  \\\n",
       "0                            37  ...                            0.97   \n",
       "1                           279  ...                            2.50   \n",
       "2                           865  ...                            1.77   \n",
       "3                           462  ...                            1.32   \n",
       "4                           352  ...                            0.79   \n",
       "\n",
       "   Population affected in million - Bihar  \\\n",
       "0                                    6.77   \n",
       "1                                    7.67   \n",
       "2                                    7.11   \n",
       "3                                    3.12   \n",
       "4                                    1.73   \n",
       "\n",
       "   Damage to Crops - Area in m. ha. - Bihar  \\\n",
       "0                                      0.93   \n",
       "1                                      1.59   \n",
       "2                                      1.01   \n",
       "3                                       0.4   \n",
       "4                                       0.3   \n",
       "\n",
       "   Damage to Crops - Value in Rs.Crore - Bihar  \\\n",
       "0                                           29   \n",
       "1                                           15   \n",
       "2                                         20.3   \n",
       "3                                         5.22   \n",
       "4                                          Neg   \n",
       "\n",
       "   Damage to Houses - Nos. - Bihar  \\\n",
       "0                           184300   \n",
       "1                           179451   \n",
       "2                           111356   \n",
       "3                            79879   \n",
       "4                            18812   \n",
       "\n",
       "   Damage to Houses - Value in Rs.Crore - Bihar  Cattle Lost Nos. - Bihar  \\\n",
       "0                                             6                        33   \n",
       "1                                             5                      1944   \n",
       "2                                          1.12                        57   \n",
       "3                                          0.51                       138   \n",
       "4                                           Neg                        18   \n",
       "\n",
       "   Human live Lost Nos. - Bihar  \\\n",
       "0                             5   \n",
       "1                            63   \n",
       "2                            44   \n",
       "3                            32   \n",
       "4                             7   \n",
       "\n",
       "   Damage to Public Utilities in Rs.Crore - Bihar  \\\n",
       "0                                             1.5   \n",
       "1                                             1.5   \n",
       "2                                           0.205   \n",
       "3                                             Nil   \n",
       "4                                             Nil   \n",
       "\n",
       "   Total damages Crops, Houses & Public utilities in Rs.Crore (col.6+8+11) - Bihar  \n",
       "0                                               36.5                                \n",
       "1                                               21.5                                \n",
       "2                                             21.625                                \n",
       "3                                               5.73                                \n",
       "4                                                Neg                                \n",
       "\n",
       "[5 rows x 42 columns]"
      ],
      "text/html": "<div>\n<style scoped>\n    .dataframe tbody tr th:only-of-type {\n        vertical-align: middle;\n    }\n\n    .dataframe tbody tr th {\n        vertical-align: top;\n    }\n\n    .dataframe thead th {\n        text-align: right;\n    }\n</style>\n<table border=\"1\" class=\"dataframe\">\n  <thead>\n    <tr style=\"text-align: right;\">\n      <th></th>\n      <th>Sl.No\\n - India</th>\n      <th>Year</th>\n      <th>Area affected in m.ha. - India</th>\n      <th>Population affected in million - India</th>\n      <th>Damage to Crops - Area in m. ha. - India</th>\n      <th>Damage to Crops - Value in Rs.Crore - India</th>\n      <th>Damage to Houses - Nos. - India</th>\n      <th>Damage to Houses - Value in Rs.Crore - India</th>\n      <th>Cattle Lost Nos. - India</th>\n      <th>Human live Lost Nos. - India</th>\n      <th>...</th>\n      <th>Area affected in m.ha. - Bihar</th>\n      <th>Population affected in million - Bihar</th>\n      <th>Damage to Crops - Area in m. ha. - Bihar</th>\n      <th>Damage to Crops - Value in Rs.Crore - Bihar</th>\n      <th>Damage to Houses - Nos. - Bihar</th>\n      <th>Damage to Houses - Value in Rs.Crore - Bihar</th>\n      <th>Cattle Lost Nos. - Bihar</th>\n      <th>Human live Lost Nos. - Bihar</th>\n      <th>Damage to Public Utilities in Rs.Crore - Bihar</th>\n      <th>Total damages Crops, Houses &amp; Public utilities in Rs.Crore (col.6+8+11) - Bihar</th>\n    </tr>\n  </thead>\n  <tbody>\n    <tr>\n      <th>0</th>\n      <td>1</td>\n      <td>1953</td>\n      <td>2.29</td>\n      <td>24.28</td>\n      <td>0.93</td>\n      <td>42.08</td>\n      <td>264924</td>\n      <td>7.420</td>\n      <td>47034</td>\n      <td>37</td>\n      <td>...</td>\n      <td>0.97</td>\n      <td>6.77</td>\n      <td>0.93</td>\n      <td>29</td>\n      <td>184300</td>\n      <td>6</td>\n      <td>33</td>\n      <td>5</td>\n      <td>1.5</td>\n      <td>36.5</td>\n    </tr>\n    <tr>\n      <th>1</th>\n      <td>2</td>\n      <td>1954</td>\n      <td>7.49</td>\n      <td>12.92</td>\n      <td>2.61</td>\n      <td>40.52</td>\n      <td>199984</td>\n      <td>6.561</td>\n      <td>22552</td>\n      <td>279</td>\n      <td>...</td>\n      <td>2.50</td>\n      <td>7.67</td>\n      <td>1.59</td>\n      <td>15</td>\n      <td>179451</td>\n      <td>5</td>\n      <td>1944</td>\n      <td>63</td>\n      <td>1.5</td>\n      <td>21.5</td>\n    </tr>\n    <tr>\n      <th>2</th>\n      <td>3</td>\n      <td>1955</td>\n      <td>9.44</td>\n      <td>25.27</td>\n      <td>5.31</td>\n      <td>77.80</td>\n      <td>1666789</td>\n      <td>20.945</td>\n      <td>72010</td>\n      <td>865</td>\n      <td>...</td>\n      <td>1.77</td>\n      <td>7.11</td>\n      <td>1.01</td>\n      <td>20.3</td>\n      <td>111356</td>\n      <td>1.12</td>\n      <td>57</td>\n      <td>44</td>\n      <td>0.205</td>\n      <td>21.625</td>\n    </tr>\n    <tr>\n      <th>3</th>\n      <td>4</td>\n      <td>1956</td>\n      <td>9.24</td>\n      <td>14.57</td>\n      <td>1.11</td>\n      <td>44.44</td>\n      <td>725776</td>\n      <td>8.047</td>\n      <td>16108</td>\n      <td>462</td>\n      <td>...</td>\n      <td>1.32</td>\n      <td>3.12</td>\n      <td>0.4</td>\n      <td>5.22</td>\n      <td>79879</td>\n      <td>0.51</td>\n      <td>138</td>\n      <td>32</td>\n      <td>Nil</td>\n      <td>5.73</td>\n    </tr>\n    <tr>\n      <th>4</th>\n      <td>5</td>\n      <td>1957</td>\n      <td>4.86</td>\n      <td>6.76</td>\n      <td>0.45</td>\n      <td>14.12</td>\n      <td>318149</td>\n      <td>4.979</td>\n      <td>7433</td>\n      <td>352</td>\n      <td>...</td>\n      <td>0.79</td>\n      <td>1.73</td>\n      <td>0.3</td>\n      <td>Neg</td>\n      <td>18812</td>\n      <td>Neg</td>\n      <td>18</td>\n      <td>7</td>\n      <td>Nil</td>\n      <td>Neg</td>\n    </tr>\n  </tbody>\n</table>\n<p>5 rows × 42 columns</p>\n</div>"
     },
     "metadata": {},
     "execution_count": 4
    }
   ],
   "source": [
    "df.head()"
   ]
  },
  {
   "cell_type": "code",
   "execution_count": 6,
   "metadata": {},
   "outputs": [],
   "source": [
    "df.rename(columns={'Sl.No\\n-India':'India', 'Area affected in m.ha. - India':'Area affected-India', 'Population affected in million - India':'Population affected-India','Damage to Crops - Area in m. ha. - India':'Damage C.area-India','Damage to Crops - Value in Rs.Crore - India':'Damage C.value-India','Damage to Houses - Nos. - India':'Damage H.no.-India','Damage to Houses - Value in Rs.Crore - India':'Damage H.value-India','Cattle Lost Nos. - India':'Cattle lost-India','Human live Lost Nos. - India':'Human lost no.-India','Area affected in m.ha. - Bihar':'Area affected-Bihar','Population affected in million - Bihar':'Population affected-Bihar','Damage to Crops - Area in m. ha. - Bihar':'Damage C.area-Bihar','Damage to Crops - Value in Rs.Crore - Bihar':'Damage C.value-Bihar','Damage to Houses - Nos. - Bihar':'Damage H.no.-Bihar','Damage to Houses - Value in Rs.Crore - Bihar':'Damage H.value-Bihar','Human live Lost Nos. - Bihar':'Human lost no.-Bihar','Damage to Public Utilities in Rs.Crore - Bihar':'Damage public utilities-Bihar','Total damages Crops, Houses & Public utilities in Rs.Crore (col.6+8+11) - Bihar':'Total damage crops,Houses & Public utilities in Rs.crore'}, inplace=True)"
   ]
  },
  {
   "cell_type": "code",
   "execution_count": 7,
   "metadata": {},
   "outputs": [],
   "source": [
    "df = df[:-4]"
   ]
  },
  {
   "cell_type": "code",
   "execution_count": 8,
   "metadata": {},
   "outputs": [],
   "source": [
    "df.drop(columns=[df.columns[0]], inplace=True)"
   ]
  },
  {
   "cell_type": "code",
   "execution_count": 9,
   "metadata": {},
   "outputs": [
    {
     "output_type": "execute_result",
     "data": {
      "text/plain": [
       "Index(['Year', 'Area affected-India', 'Population affected-India',\n",
       "       'Damage C.area-India', 'Damage C.value-India', 'Damage H.no.-India',\n",
       "       'Damage H.value-India', 'Cattle lost-India', 'Human lost no.-India',\n",
       "       'Damage to Public Utilities in Rs.Crore - India',\n",
       "       'Total Damages Crops, Houses & Public utilities in Rs.Crore (col.6+8+11) - India',\n",
       "       'Area affected in m.ha. - Uttar Pradesh',\n",
       "       'Population affected in million - Uttar Pradesh',\n",
       "       'Damage to Crops - Area in m. ha. - Uttar Pradesh',\n",
       "       'Damage to Crops - Value in Rs.Crore - Uttar Pradesh',\n",
       "       'Damage to Houses - Nos. - Uttar Pradesh',\n",
       "       'Damage to Houses - Value in Rs.Crore - Uttar Pradesh',\n",
       "       'Cattle Lost Nos. - Uttar Pradesh',\n",
       "       'Human live Lost Nos. - Uttar Pradesh',\n",
       "       'Damage to Public Utilities in Rs.Crore - Uttar Pradesh',\n",
       "       'Total damages Crops, Houses & Public utilities in Rs.Crore (col.6+8+11) - Uttar Pradesh',\n",
       "       'Area affected in m.ha. - Madhya Pradesh',\n",
       "       'Population affected in million - Madhya Pradesh',\n",
       "       'Damage to Crops - Area in m. ha. - Madhya Pradesh',\n",
       "       'Damage to Crops - Value in Rs.Crore - Madhya Pradesh',\n",
       "       'Damage to Houses - Nos. - Madhya Pradesh',\n",
       "       'Damage to Houses - Value in Rs.Crore - Madhya Pradesh',\n",
       "       'Cattle Lost Nos. - Madhya Pradesh',\n",
       "       'Human live Lost Nos. - Madhya Pradesh',\n",
       "       'Damage to Public Utilities in Rs.Crore - Madhya Pradesh',\n",
       "       'Total damages Crops, Houses & Public utilities in Rs.Crore (col.6+8+11) - Madhya Pradesh',\n",
       "       'Area affected-Bihar', 'Population affected-Bihar',\n",
       "       'Damage C.area-Bihar', 'Damage C.value-Bihar', 'Damage H.no.-Bihar',\n",
       "       'Damage H.value-Bihar', 'Cattle Lost Nos. - Bihar',\n",
       "       'Human lost no.-Bihar', 'Damage public utilities-Bihar',\n",
       "       'Total damage crops,Houses & Public utilities in Rs.crore'],\n",
       "      dtype='object')"
      ]
     },
     "metadata": {},
     "execution_count": 9
    }
   ],
   "source": [
    "df.columns"
   ]
  },
  {
   "cell_type": "code",
   "execution_count": 11,
   "metadata": {},
   "outputs": [],
   "source": [
    "ind = df['Area affected-India']\n",
    "bih = df['Damage C.area-Bihar']\n",
    "up = df['Damage to Crops - Area in m. ha. - Uttar Pradesh']\n",
    "mp = df['Damage to Crops - Area in m. ha. - Madhya Pradesh']"
   ]
  },
  {
   "cell_type": "code",
   "execution_count": 10,
   "metadata": {},
   "outputs": [
    {
     "output_type": "execute_result",
     "data": {
      "text/plain": [
       "    Year  Area affected-India  Population affected-India  Damage C.area-India  \\\n",
       "0   1953                2.290                     24.280                0.930   \n",
       "1   1954                7.490                     12.920                2.610   \n",
       "2   1955                9.440                     25.270                5.310   \n",
       "3   1956                9.240                     14.570                1.110   \n",
       "4   1957                4.860                      6.760                0.450   \n",
       "..   ...                  ...                        ...                  ...   \n",
       "60  2013                7.546                     25.927                7.484   \n",
       "61  2014               12.775                     26.505                8.007   \n",
       "62  2015                4.478                     33.203                3.374   \n",
       "63  2016                7.065                     26.555                6.658   \n",
       "64  2017                0.000                     17.915                5.124   \n",
       "\n",
       "    Damage C.value-India  Damage H.no.-India  Damage H.value-India  \\\n",
       "0                 42.080              264924                 7.420   \n",
       "1                 40.520              199984                 6.561   \n",
       "2                 77.800             1666789                20.945   \n",
       "3                 44.440              725776                 8.047   \n",
       "4                 14.120              318149                 4.979   \n",
       "..                   ...                 ...                   ...   \n",
       "60              6378.078              699525              2032.830   \n",
       "61              7255.151              311325               581.978   \n",
       "62             17043.948             3959191              8046.969   \n",
       "63              4052.723              278240               114.676   \n",
       "64              6923.800             1151755              9176.480   \n",
       "\n",
       "    Cattle lost-India  Human lost no.-India  \\\n",
       "0               47034                    37   \n",
       "1               22552                   279   \n",
       "2               72010                   865   \n",
       "3               16108                   462   \n",
       "4                7433                   352   \n",
       "..                ...                   ...   \n",
       "60             163958                  2180   \n",
       "61              60196                  1968   \n",
       "62              45597                  1420   \n",
       "63              22367                  1420   \n",
       "64               5473                  2015   \n",
       "\n",
       "    Damage to Public Utilities in Rs.Crore - India  ...  Area affected-Bihar  \\\n",
       "0                                            2.900  ...                 0.97   \n",
       "1                                           10.150  ...                 2.50   \n",
       "2                                            3.980  ...                 1.77   \n",
       "3                                            1.140  ...                 1.32   \n",
       "4                                            4.270  ...                 0.79   \n",
       "..                                             ...  ...                  ...   \n",
       "60                                       38937.843  ...                 0.60   \n",
       "61                                        7710.948  ...                 3.90   \n",
       "62                                       32200.182  ...                  NaN   \n",
       "63                                        1507.926  ...                 0.41   \n",
       "64                                        2179.350  ...                  NaN   \n",
       "\n",
       "    Population affected-Bihar  Damage C.area-Bihar  Damage C.value-Bihar  \\\n",
       "0                       6.770                 0.93                    29   \n",
       "1                       7.670                 1.59                    15   \n",
       "2                       7.110                 1.01                  20.3   \n",
       "3                       3.120                  0.4                  5.22   \n",
       "4                       1.730                  0.3                   Neg   \n",
       "..                        ...                  ...                   ...   \n",
       "60                      6.900                  0.6                105.72   \n",
       "61                      0.312                  0.5                 176.4   \n",
       "62                      0.279                    0                   NaN   \n",
       "63                      8.823                 0.41                443.53   \n",
       "64                        NaN                 0.81                   NaN   \n",
       "\n",
       "    Damage H.no.-Bihar  Damage H.value-Bihar  Cattle Lost Nos. - Bihar  \\\n",
       "0               184300                     6                        33   \n",
       "1               179451                     5                      1944   \n",
       "2               111356                  1.12                        57   \n",
       "3                79879                  0.51                       138   \n",
       "4                18812                   Neg                        18   \n",
       "..                 ...                   ...                       ...   \n",
       "60              156518                 24.02                      6548   \n",
       "61               13662                 10.78                        34   \n",
       "62                 518                 0.694                         1   \n",
       "63               16717                44.262                       246   \n",
       "64              118410                   NaN                       NaN   \n",
       "\n",
       "    Human lost no.-Bihar  Damage public utilities-Bihar  \\\n",
       "0                      5                            1.5   \n",
       "1                     63                            1.5   \n",
       "2                     44                          0.205   \n",
       "3                     32                            Nil   \n",
       "4                      7                            Nil   \n",
       "..                   ...                            ...   \n",
       "60                   218                          16.61   \n",
       "61                   158                            5.4   \n",
       "62                    27                             62   \n",
       "63                   254                          40.97   \n",
       "64                   514                            NaN   \n",
       "\n",
       "   Total damage crops,Houses & Public utilities in Rs.crore  \n",
       "0                                                36.5        \n",
       "1                                                21.5        \n",
       "2                                              21.625        \n",
       "3                                                5.73        \n",
       "4                                                 Neg        \n",
       "..                                                ...        \n",
       "60                                             146.35        \n",
       "61                                             192.58        \n",
       "62                                             62.694        \n",
       "63                                            528.762        \n",
       "64                                                  0        \n",
       "\n",
       "[65 rows x 41 columns]"
      ],
      "text/html": "<div>\n<style scoped>\n    .dataframe tbody tr th:only-of-type {\n        vertical-align: middle;\n    }\n\n    .dataframe tbody tr th {\n        vertical-align: top;\n    }\n\n    .dataframe thead th {\n        text-align: right;\n    }\n</style>\n<table border=\"1\" class=\"dataframe\">\n  <thead>\n    <tr style=\"text-align: right;\">\n      <th></th>\n      <th>Year</th>\n      <th>Area affected-India</th>\n      <th>Population affected-India</th>\n      <th>Damage C.area-India</th>\n      <th>Damage C.value-India</th>\n      <th>Damage H.no.-India</th>\n      <th>Damage H.value-India</th>\n      <th>Cattle lost-India</th>\n      <th>Human lost no.-India</th>\n      <th>Damage to Public Utilities in Rs.Crore - India</th>\n      <th>...</th>\n      <th>Area affected-Bihar</th>\n      <th>Population affected-Bihar</th>\n      <th>Damage C.area-Bihar</th>\n      <th>Damage C.value-Bihar</th>\n      <th>Damage H.no.-Bihar</th>\n      <th>Damage H.value-Bihar</th>\n      <th>Cattle Lost Nos. - Bihar</th>\n      <th>Human lost no.-Bihar</th>\n      <th>Damage public utilities-Bihar</th>\n      <th>Total damage crops,Houses &amp; Public utilities in Rs.crore</th>\n    </tr>\n  </thead>\n  <tbody>\n    <tr>\n      <th>0</th>\n      <td>1953</td>\n      <td>2.290</td>\n      <td>24.280</td>\n      <td>0.930</td>\n      <td>42.080</td>\n      <td>264924</td>\n      <td>7.420</td>\n      <td>47034</td>\n      <td>37</td>\n      <td>2.900</td>\n      <td>...</td>\n      <td>0.97</td>\n      <td>6.770</td>\n      <td>0.93</td>\n      <td>29</td>\n      <td>184300</td>\n      <td>6</td>\n      <td>33</td>\n      <td>5</td>\n      <td>1.5</td>\n      <td>36.5</td>\n    </tr>\n    <tr>\n      <th>1</th>\n      <td>1954</td>\n      <td>7.490</td>\n      <td>12.920</td>\n      <td>2.610</td>\n      <td>40.520</td>\n      <td>199984</td>\n      <td>6.561</td>\n      <td>22552</td>\n      <td>279</td>\n      <td>10.150</td>\n      <td>...</td>\n      <td>2.50</td>\n      <td>7.670</td>\n      <td>1.59</td>\n      <td>15</td>\n      <td>179451</td>\n      <td>5</td>\n      <td>1944</td>\n      <td>63</td>\n      <td>1.5</td>\n      <td>21.5</td>\n    </tr>\n    <tr>\n      <th>2</th>\n      <td>1955</td>\n      <td>9.440</td>\n      <td>25.270</td>\n      <td>5.310</td>\n      <td>77.800</td>\n      <td>1666789</td>\n      <td>20.945</td>\n      <td>72010</td>\n      <td>865</td>\n      <td>3.980</td>\n      <td>...</td>\n      <td>1.77</td>\n      <td>7.110</td>\n      <td>1.01</td>\n      <td>20.3</td>\n      <td>111356</td>\n      <td>1.12</td>\n      <td>57</td>\n      <td>44</td>\n      <td>0.205</td>\n      <td>21.625</td>\n    </tr>\n    <tr>\n      <th>3</th>\n      <td>1956</td>\n      <td>9.240</td>\n      <td>14.570</td>\n      <td>1.110</td>\n      <td>44.440</td>\n      <td>725776</td>\n      <td>8.047</td>\n      <td>16108</td>\n      <td>462</td>\n      <td>1.140</td>\n      <td>...</td>\n      <td>1.32</td>\n      <td>3.120</td>\n      <td>0.4</td>\n      <td>5.22</td>\n      <td>79879</td>\n      <td>0.51</td>\n      <td>138</td>\n      <td>32</td>\n      <td>Nil</td>\n      <td>5.73</td>\n    </tr>\n    <tr>\n      <th>4</th>\n      <td>1957</td>\n      <td>4.860</td>\n      <td>6.760</td>\n      <td>0.450</td>\n      <td>14.120</td>\n      <td>318149</td>\n      <td>4.979</td>\n      <td>7433</td>\n      <td>352</td>\n      <td>4.270</td>\n      <td>...</td>\n      <td>0.79</td>\n      <td>1.730</td>\n      <td>0.3</td>\n      <td>Neg</td>\n      <td>18812</td>\n      <td>Neg</td>\n      <td>18</td>\n      <td>7</td>\n      <td>Nil</td>\n      <td>Neg</td>\n    </tr>\n    <tr>\n      <th>...</th>\n      <td>...</td>\n      <td>...</td>\n      <td>...</td>\n      <td>...</td>\n      <td>...</td>\n      <td>...</td>\n      <td>...</td>\n      <td>...</td>\n      <td>...</td>\n      <td>...</td>\n      <td>...</td>\n      <td>...</td>\n      <td>...</td>\n      <td>...</td>\n      <td>...</td>\n      <td>...</td>\n      <td>...</td>\n      <td>...</td>\n      <td>...</td>\n      <td>...</td>\n      <td>...</td>\n    </tr>\n    <tr>\n      <th>60</th>\n      <td>2013</td>\n      <td>7.546</td>\n      <td>25.927</td>\n      <td>7.484</td>\n      <td>6378.078</td>\n      <td>699525</td>\n      <td>2032.830</td>\n      <td>163958</td>\n      <td>2180</td>\n      <td>38937.843</td>\n      <td>...</td>\n      <td>0.60</td>\n      <td>6.900</td>\n      <td>0.6</td>\n      <td>105.72</td>\n      <td>156518</td>\n      <td>24.02</td>\n      <td>6548</td>\n      <td>218</td>\n      <td>16.61</td>\n      <td>146.35</td>\n    </tr>\n    <tr>\n      <th>61</th>\n      <td>2014</td>\n      <td>12.775</td>\n      <td>26.505</td>\n      <td>8.007</td>\n      <td>7255.151</td>\n      <td>311325</td>\n      <td>581.978</td>\n      <td>60196</td>\n      <td>1968</td>\n      <td>7710.948</td>\n      <td>...</td>\n      <td>3.90</td>\n      <td>0.312</td>\n      <td>0.5</td>\n      <td>176.4</td>\n      <td>13662</td>\n      <td>10.78</td>\n      <td>34</td>\n      <td>158</td>\n      <td>5.4</td>\n      <td>192.58</td>\n    </tr>\n    <tr>\n      <th>62</th>\n      <td>2015</td>\n      <td>4.478</td>\n      <td>33.203</td>\n      <td>3.374</td>\n      <td>17043.948</td>\n      <td>3959191</td>\n      <td>8046.969</td>\n      <td>45597</td>\n      <td>1420</td>\n      <td>32200.182</td>\n      <td>...</td>\n      <td>NaN</td>\n      <td>0.279</td>\n      <td>0</td>\n      <td>NaN</td>\n      <td>518</td>\n      <td>0.694</td>\n      <td>1</td>\n      <td>27</td>\n      <td>62</td>\n      <td>62.694</td>\n    </tr>\n    <tr>\n      <th>63</th>\n      <td>2016</td>\n      <td>7.065</td>\n      <td>26.555</td>\n      <td>6.658</td>\n      <td>4052.723</td>\n      <td>278240</td>\n      <td>114.676</td>\n      <td>22367</td>\n      <td>1420</td>\n      <td>1507.926</td>\n      <td>...</td>\n      <td>0.41</td>\n      <td>8.823</td>\n      <td>0.41</td>\n      <td>443.53</td>\n      <td>16717</td>\n      <td>44.262</td>\n      <td>246</td>\n      <td>254</td>\n      <td>40.97</td>\n      <td>528.762</td>\n    </tr>\n    <tr>\n      <th>64</th>\n      <td>2017</td>\n      <td>0.000</td>\n      <td>17.915</td>\n      <td>5.124</td>\n      <td>6923.800</td>\n      <td>1151755</td>\n      <td>9176.480</td>\n      <td>5473</td>\n      <td>2015</td>\n      <td>2179.350</td>\n      <td>...</td>\n      <td>NaN</td>\n      <td>NaN</td>\n      <td>0.81</td>\n      <td>NaN</td>\n      <td>118410</td>\n      <td>NaN</td>\n      <td>NaN</td>\n      <td>514</td>\n      <td>NaN</td>\n      <td>0</td>\n    </tr>\n  </tbody>\n</table>\n<p>65 rows × 41 columns</p>\n</div>"
     },
     "metadata": {},
     "execution_count": 10
    }
   ],
   "source": [
    "df"
   ]
  },
  {
   "cell_type": "code",
   "execution_count": null,
   "metadata": {},
   "outputs": [],
   "source": [
    "ind = df[ 'Population affected-India']\n",
    "bih = df['Population affected-Bihar']\n",
    "up = df['Population affected in million - Uttar Pradesh']\n",
    "mp = df[ 'Population affected in million - Madhya Pradesh']"
   ]
  },
  {
   "cell_type": "code",
   "execution_count": null,
   "metadata": {},
   "outputs": [],
   "source": [
    "ind = df['Human lost no.-India']\n",
    "bih = df['Human lost no.-Bihar']\n",
    "up = df['Human live Lost Nos. - Uttar Pradesh']\n",
    "mp = df['Human live Lost Nos. - Madhya Pradesh']"
   ]
  }
 ]
}