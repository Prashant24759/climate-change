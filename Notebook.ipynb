{
 "metadata": {
  "language_info": {
   "codemirror_mode": {
    "name": "ipython",
    "version": 3
   },
   "file_extension": ".py",
   "mimetype": "text/x-python",
   "name": "python",
   "nbconvert_exporter": "python",
   "pygments_lexer": "ipython3",
   "version": "3.7.3"
  },
  "orig_nbformat": 2,
  "kernelspec": {
   "name": "python373jvsc74a57bd02b9cd5c3ec4eb793e30b3fe22fb3034f3d8c9722bad10f4cedbbd7faa7e7f261",
   "display_name": "Python 3.7.3 64-bit ('base': conda)"
  },
  "metadata": {
   "interpreter": {
    "hash": "eb46296dad870af0d9c01f7eafe75df3b3bf78460e70938634c320dcb920b6f3"
   }
  }
 },
 "nbformat": 4,
 "nbformat_minor": 2,
 "cells": [
  {
   "cell_type": "code",
   "execution_count": 2,
   "metadata": {},
   "outputs": [],
   "source": [
    "import pandas as pd\n",
    "import matplotlib.pyplot as plt"
   ]
  },
  {
   "cell_type": "code",
   "execution_count": 3,
   "metadata": {},
   "outputs": [],
   "source": [
    "df = pd.read_csv('dataset/Environment_Temperature_change.csv', encoding = \"ISO-8859-1\")"
   ]
  },
  {
   "cell_type": "code",
   "execution_count": 4,
   "metadata": {},
   "outputs": [
    {
     "output_type": "execute_result",
     "data": {
      "text/plain": [
       "   Area Code         Area  Months Code    Months  Element Code  \\\n",
       "0          2  Afghanistan         7001   January          7271   \n",
       "1          2  Afghanistan         7001   January          6078   \n",
       "2          2  Afghanistan         7002  February          7271   \n",
       "3          2  Afghanistan         7002  February          6078   \n",
       "4          2  Afghanistan         7003     March          7271   \n",
       "\n",
       "              Element Unit  Y1961  Y1962  Y1963  ...  Y2010  Y2011  Y2012  \\\n",
       "0  Temperature change   °C  0.777  0.062  2.744  ...  3.601  1.179 -0.583   \n",
       "1  Standard Deviation   °C  1.950  1.950  1.950  ...  1.950  1.950  1.950   \n",
       "2  Temperature change   °C -1.743  2.465  3.919  ...  1.212  0.321 -3.201   \n",
       "3  Standard Deviation   °C  2.597  2.597  2.597  ...  2.597  2.597  2.597   \n",
       "4  Temperature change   °C  0.516  1.336  0.403  ...  3.390  0.748 -0.527   \n",
       "\n",
       "   Y2013  Y2014  Y2015  Y2016  Y2017  Y2018  Y2019  \n",
       "0  1.233  1.755  1.943  3.416  1.201  1.996  2.951  \n",
       "1  1.950  1.950  1.950  1.950  1.950  1.950  1.950  \n",
       "2  1.494 -3.187  2.699  2.251 -0.323  2.705  0.086  \n",
       "3  2.597  2.597  2.597  2.597  2.597  2.597  2.597  \n",
       "4  2.246 -0.076 -0.497  2.296  0.834  4.418  0.234  \n",
       "\n",
       "[5 rows x 66 columns]"
      ],
      "text/html": "<div>\n<style scoped>\n    .dataframe tbody tr th:only-of-type {\n        vertical-align: middle;\n    }\n\n    .dataframe tbody tr th {\n        vertical-align: top;\n    }\n\n    .dataframe thead th {\n        text-align: right;\n    }\n</style>\n<table border=\"1\" class=\"dataframe\">\n  <thead>\n    <tr style=\"text-align: right;\">\n      <th></th>\n      <th>Area Code</th>\n      <th>Area</th>\n      <th>Months Code</th>\n      <th>Months</th>\n      <th>Element Code</th>\n      <th>Element</th>\n      <th>Unit</th>\n      <th>Y1961</th>\n      <th>Y1962</th>\n      <th>Y1963</th>\n      <th>...</th>\n      <th>Y2010</th>\n      <th>Y2011</th>\n      <th>Y2012</th>\n      <th>Y2013</th>\n      <th>Y2014</th>\n      <th>Y2015</th>\n      <th>Y2016</th>\n      <th>Y2017</th>\n      <th>Y2018</th>\n      <th>Y2019</th>\n    </tr>\n  </thead>\n  <tbody>\n    <tr>\n      <th>0</th>\n      <td>2</td>\n      <td>Afghanistan</td>\n      <td>7001</td>\n      <td>January</td>\n      <td>7271</td>\n      <td>Temperature change</td>\n      <td>°C</td>\n      <td>0.777</td>\n      <td>0.062</td>\n      <td>2.744</td>\n      <td>...</td>\n      <td>3.601</td>\n      <td>1.179</td>\n      <td>-0.583</td>\n      <td>1.233</td>\n      <td>1.755</td>\n      <td>1.943</td>\n      <td>3.416</td>\n      <td>1.201</td>\n      <td>1.996</td>\n      <td>2.951</td>\n    </tr>\n    <tr>\n      <th>1</th>\n      <td>2</td>\n      <td>Afghanistan</td>\n      <td>7001</td>\n      <td>January</td>\n      <td>6078</td>\n      <td>Standard Deviation</td>\n      <td>°C</td>\n      <td>1.950</td>\n      <td>1.950</td>\n      <td>1.950</td>\n      <td>...</td>\n      <td>1.950</td>\n      <td>1.950</td>\n      <td>1.950</td>\n      <td>1.950</td>\n      <td>1.950</td>\n      <td>1.950</td>\n      <td>1.950</td>\n      <td>1.950</td>\n      <td>1.950</td>\n      <td>1.950</td>\n    </tr>\n    <tr>\n      <th>2</th>\n      <td>2</td>\n      <td>Afghanistan</td>\n      <td>7002</td>\n      <td>February</td>\n      <td>7271</td>\n      <td>Temperature change</td>\n      <td>°C</td>\n      <td>-1.743</td>\n      <td>2.465</td>\n      <td>3.919</td>\n      <td>...</td>\n      <td>1.212</td>\n      <td>0.321</td>\n      <td>-3.201</td>\n      <td>1.494</td>\n      <td>-3.187</td>\n      <td>2.699</td>\n      <td>2.251</td>\n      <td>-0.323</td>\n      <td>2.705</td>\n      <td>0.086</td>\n    </tr>\n    <tr>\n      <th>3</th>\n      <td>2</td>\n      <td>Afghanistan</td>\n      <td>7002</td>\n      <td>February</td>\n      <td>6078</td>\n      <td>Standard Deviation</td>\n      <td>°C</td>\n      <td>2.597</td>\n      <td>2.597</td>\n      <td>2.597</td>\n      <td>...</td>\n      <td>2.597</td>\n      <td>2.597</td>\n      <td>2.597</td>\n      <td>2.597</td>\n      <td>2.597</td>\n      <td>2.597</td>\n      <td>2.597</td>\n      <td>2.597</td>\n      <td>2.597</td>\n      <td>2.597</td>\n    </tr>\n    <tr>\n      <th>4</th>\n      <td>2</td>\n      <td>Afghanistan</td>\n      <td>7003</td>\n      <td>March</td>\n      <td>7271</td>\n      <td>Temperature change</td>\n      <td>°C</td>\n      <td>0.516</td>\n      <td>1.336</td>\n      <td>0.403</td>\n      <td>...</td>\n      <td>3.390</td>\n      <td>0.748</td>\n      <td>-0.527</td>\n      <td>2.246</td>\n      <td>-0.076</td>\n      <td>-0.497</td>\n      <td>2.296</td>\n      <td>0.834</td>\n      <td>4.418</td>\n      <td>0.234</td>\n    </tr>\n  </tbody>\n</table>\n<p>5 rows × 66 columns</p>\n</div>"
     },
     "metadata": {},
     "execution_count": 4
    }
   ],
   "source": [
    "df.head()"
   ]
  },
  {
   "cell_type": "code",
   "execution_count": 7,
   "metadata": {},
   "outputs": [],
   "source": [
    "df.drop(['Months Code', 'Element Code', 'Unit','Area Code'], axis=1, inplace=True)"
   ]
  },
  {
   "cell_type": "code",
   "execution_count": 8,
   "metadata": {},
   "outputs": [
    {
     "output_type": "execute_result",
     "data": {
      "text/plain": [
       "          Area    Months             Element  Y1961  Y1962  Y1963  Y1964  \\\n",
       "0  Afghanistan   January  Temperature change  0.777  0.062  2.744 -5.232   \n",
       "1  Afghanistan   January  Standard Deviation  1.950  1.950  1.950  1.950   \n",
       "2  Afghanistan  February  Temperature change -1.743  2.465  3.919 -0.202   \n",
       "3  Afghanistan  February  Standard Deviation  2.597  2.597  2.597  2.597   \n",
       "4  Afghanistan     March  Temperature change  0.516  1.336  0.403  1.659   \n",
       "\n",
       "   Y1965  Y1966  Y1967  ...  Y2010  Y2011  Y2012  Y2013  Y2014  Y2015  Y2016  \\\n",
       "0  1.868  3.629 -1.432  ...  3.601  1.179 -0.583  1.233  1.755  1.943  3.416   \n",
       "1  1.950  1.950  1.950  ...  1.950  1.950  1.950  1.950  1.950  1.950  1.950   \n",
       "2 -0.096  3.397  0.296  ...  1.212  0.321 -3.201  1.494 -3.187  2.699  2.251   \n",
       "3  2.597  2.597  2.597  ...  2.597  2.597  2.597  2.597  2.597  2.597  2.597   \n",
       "4 -0.909 -0.069 -0.759  ...  3.390  0.748 -0.527  2.246 -0.076 -0.497  2.296   \n",
       "\n",
       "   Y2017  Y2018  Y2019  \n",
       "0  1.201  1.996  2.951  \n",
       "1  1.950  1.950  1.950  \n",
       "2 -0.323  2.705  0.086  \n",
       "3  2.597  2.597  2.597  \n",
       "4  0.834  4.418  0.234  \n",
       "\n",
       "[5 rows x 62 columns]"
      ],
      "text/html": "<div>\n<style scoped>\n    .dataframe tbody tr th:only-of-type {\n        vertical-align: middle;\n    }\n\n    .dataframe tbody tr th {\n        vertical-align: top;\n    }\n\n    .dataframe thead th {\n        text-align: right;\n    }\n</style>\n<table border=\"1\" class=\"dataframe\">\n  <thead>\n    <tr style=\"text-align: right;\">\n      <th></th>\n      <th>Area</th>\n      <th>Months</th>\n      <th>Element</th>\n      <th>Y1961</th>\n      <th>Y1962</th>\n      <th>Y1963</th>\n      <th>Y1964</th>\n      <th>Y1965</th>\n      <th>Y1966</th>\n      <th>Y1967</th>\n      <th>...</th>\n      <th>Y2010</th>\n      <th>Y2011</th>\n      <th>Y2012</th>\n      <th>Y2013</th>\n      <th>Y2014</th>\n      <th>Y2015</th>\n      <th>Y2016</th>\n      <th>Y2017</th>\n      <th>Y2018</th>\n      <th>Y2019</th>\n    </tr>\n  </thead>\n  <tbody>\n    <tr>\n      <th>0</th>\n      <td>Afghanistan</td>\n      <td>January</td>\n      <td>Temperature change</td>\n      <td>0.777</td>\n      <td>0.062</td>\n      <td>2.744</td>\n      <td>-5.232</td>\n      <td>1.868</td>\n      <td>3.629</td>\n      <td>-1.432</td>\n      <td>...</td>\n      <td>3.601</td>\n      <td>1.179</td>\n      <td>-0.583</td>\n      <td>1.233</td>\n      <td>1.755</td>\n      <td>1.943</td>\n      <td>3.416</td>\n      <td>1.201</td>\n      <td>1.996</td>\n      <td>2.951</td>\n    </tr>\n    <tr>\n      <th>1</th>\n      <td>Afghanistan</td>\n      <td>January</td>\n      <td>Standard Deviation</td>\n      <td>1.950</td>\n      <td>1.950</td>\n      <td>1.950</td>\n      <td>1.950</td>\n      <td>1.950</td>\n      <td>1.950</td>\n      <td>1.950</td>\n      <td>...</td>\n      <td>1.950</td>\n      <td>1.950</td>\n      <td>1.950</td>\n      <td>1.950</td>\n      <td>1.950</td>\n      <td>1.950</td>\n      <td>1.950</td>\n      <td>1.950</td>\n      <td>1.950</td>\n      <td>1.950</td>\n    </tr>\n    <tr>\n      <th>2</th>\n      <td>Afghanistan</td>\n      <td>February</td>\n      <td>Temperature change</td>\n      <td>-1.743</td>\n      <td>2.465</td>\n      <td>3.919</td>\n      <td>-0.202</td>\n      <td>-0.096</td>\n      <td>3.397</td>\n      <td>0.296</td>\n      <td>...</td>\n      <td>1.212</td>\n      <td>0.321</td>\n      <td>-3.201</td>\n      <td>1.494</td>\n      <td>-3.187</td>\n      <td>2.699</td>\n      <td>2.251</td>\n      <td>-0.323</td>\n      <td>2.705</td>\n      <td>0.086</td>\n    </tr>\n    <tr>\n      <th>3</th>\n      <td>Afghanistan</td>\n      <td>February</td>\n      <td>Standard Deviation</td>\n      <td>2.597</td>\n      <td>2.597</td>\n      <td>2.597</td>\n      <td>2.597</td>\n      <td>2.597</td>\n      <td>2.597</td>\n      <td>2.597</td>\n      <td>...</td>\n      <td>2.597</td>\n      <td>2.597</td>\n      <td>2.597</td>\n      <td>2.597</td>\n      <td>2.597</td>\n      <td>2.597</td>\n      <td>2.597</td>\n      <td>2.597</td>\n      <td>2.597</td>\n      <td>2.597</td>\n    </tr>\n    <tr>\n      <th>4</th>\n      <td>Afghanistan</td>\n      <td>March</td>\n      <td>Temperature change</td>\n      <td>0.516</td>\n      <td>1.336</td>\n      <td>0.403</td>\n      <td>1.659</td>\n      <td>-0.909</td>\n      <td>-0.069</td>\n      <td>-0.759</td>\n      <td>...</td>\n      <td>3.390</td>\n      <td>0.748</td>\n      <td>-0.527</td>\n      <td>2.246</td>\n      <td>-0.076</td>\n      <td>-0.497</td>\n      <td>2.296</td>\n      <td>0.834</td>\n      <td>4.418</td>\n      <td>0.234</td>\n    </tr>\n  </tbody>\n</table>\n<p>5 rows × 62 columns</p>\n</div>"
     },
     "metadata": {},
     "execution_count": 8
    }
   ],
   "source": [
    "df.head()"
   ]
  },
  {
   "cell_type": "code",
   "execution_count": 9,
   "metadata": {},
   "outputs": [],
   "source": [
    "years=list(range(1961,2020))\n",
    "df_years=df.columns[3:].values\n",
    "df.rename(columns=dict(list(zip(df_years,years))),inplace=True)"
   ]
  },
  {
   "cell_type": "code",
   "execution_count": 10,
   "metadata": {},
   "outputs": [],
   "source": [
    "df.rename(columns={'Area' : 'Country'}, inplace = True)"
   ]
  },
  {
   "cell_type": "code",
   "execution_count": 11,
   "metadata": {},
   "outputs": [],
   "source": [
    "df.set_index('Country', inplace = True)"
   ]
  },
  {
   "cell_type": "code",
   "execution_count": 12,
   "metadata": {},
   "outputs": [],
   "source": [
    "years = list(range(1961, 2020))"
   ]
  },
  {
   "cell_type": "code",
   "execution_count": 13,
   "metadata": {},
   "outputs": [
    {
     "output_type": "execute_result",
     "data": {
      "text/plain": [
       "<matplotlib.axes._subplots.AxesSubplot at 0x1af2efb1160>"
      ]
     },
     "metadata": {},
     "execution_count": 13
    },
    {
     "output_type": "display_data",
     "data": {
      "text/plain": "<Figure size 432x288 with 1 Axes>",
      "image/svg+xml": "<?xml version=\"1.0\" encoding=\"utf-8\" standalone=\"no\"?>\r\n<!DOCTYPE svg PUBLIC \"-//W3C//DTD SVG 1.1//EN\"\r\n  \"http://www.w3.org/Graphics/SVG/1.1/DTD/svg11.dtd\">\r\n<!-- Created with matplotlib (https://matplotlib.org/) -->\r\n<svg height=\"252.018125pt\" version=\"1.1\" viewBox=\"0 0 381.965625 252.018125\" width=\"381.965625pt\" xmlns=\"http://www.w3.org/2000/svg\" xmlns:xlink=\"http://www.w3.org/1999/xlink\">\r\n <defs>\r\n  <style type=\"text/css\">\r\n*{stroke-linecap:butt;stroke-linejoin:round;}\r\n  </style>\r\n </defs>\r\n <g id=\"figure_1\">\r\n  <g id=\"patch_1\">\r\n   <path d=\"M 0 252.018125 \r\nL 381.965625 252.018125 \r\nL 381.965625 0 \r\nL 0 0 \r\nz\r\n\" style=\"fill:none;\"/>\r\n  </g>\r\n  <g id=\"axes_1\">\r\n   <g id=\"patch_2\">\r\n    <path d=\"M 36.465625 228.14 \r\nL 371.265625 228.14 \r\nL 371.265625 10.7 \r\nL 36.465625 10.7 \r\nz\r\n\" style=\"fill:#ffffff;\"/>\r\n   </g>\r\n   <g id=\"matplotlib.axis_1\">\r\n    <g id=\"xtick_1\">\r\n     <g id=\"line2d_1\">\r\n      <defs>\r\n       <path d=\"M 0 0 \r\nL 0 3.5 \r\n\" id=\"m73457216b1\" style=\"stroke:#000000;stroke-width:0.8;\"/>\r\n      </defs>\r\n      <g>\r\n       <use style=\"stroke:#000000;stroke-width:0.8;\" x=\"46.436158\" xlink:href=\"#m73457216b1\" y=\"228.14\"/>\r\n      </g>\r\n     </g>\r\n     <g id=\"text_1\">\r\n      <!-- 1960 -->\r\n      <defs>\r\n       <path d=\"M 12.40625 8.296875 \r\nL 28.515625 8.296875 \r\nL 28.515625 63.921875 \r\nL 10.984375 60.40625 \r\nL 10.984375 69.390625 \r\nL 28.421875 72.90625 \r\nL 38.28125 72.90625 \r\nL 38.28125 8.296875 \r\nL 54.390625 8.296875 \r\nL 54.390625 0 \r\nL 12.40625 0 \r\nz\r\n\" id=\"DejaVuSans-49\"/>\r\n       <path d=\"M 10.984375 1.515625 \r\nL 10.984375 10.5 \r\nQ 14.703125 8.734375 18.5 7.8125 \r\nQ 22.3125 6.890625 25.984375 6.890625 \r\nQ 35.75 6.890625 40.890625 13.453125 \r\nQ 46.046875 20.015625 46.78125 33.40625 \r\nQ 43.953125 29.203125 39.59375 26.953125 \r\nQ 35.25 24.703125 29.984375 24.703125 \r\nQ 19.046875 24.703125 12.671875 31.3125 \r\nQ 6.296875 37.9375 6.296875 49.421875 \r\nQ 6.296875 60.640625 12.9375 67.421875 \r\nQ 19.578125 74.21875 30.609375 74.21875 \r\nQ 43.265625 74.21875 49.921875 64.515625 \r\nQ 56.59375 54.828125 56.59375 36.375 \r\nQ 56.59375 19.140625 48.40625 8.859375 \r\nQ 40.234375 -1.421875 26.421875 -1.421875 \r\nQ 22.703125 -1.421875 18.890625 -0.6875 \r\nQ 15.09375 0.046875 10.984375 1.515625 \r\nz\r\nM 30.609375 32.421875 \r\nQ 37.25 32.421875 41.125 36.953125 \r\nQ 45.015625 41.5 45.015625 49.421875 \r\nQ 45.015625 57.28125 41.125 61.84375 \r\nQ 37.25 66.40625 30.609375 66.40625 \r\nQ 23.96875 66.40625 20.09375 61.84375 \r\nQ 16.21875 57.28125 16.21875 49.421875 \r\nQ 16.21875 41.5 20.09375 36.953125 \r\nQ 23.96875 32.421875 30.609375 32.421875 \r\nz\r\n\" id=\"DejaVuSans-57\"/>\r\n       <path d=\"M 33.015625 40.375 \r\nQ 26.375 40.375 22.484375 35.828125 \r\nQ 18.609375 31.296875 18.609375 23.390625 \r\nQ 18.609375 15.53125 22.484375 10.953125 \r\nQ 26.375 6.390625 33.015625 6.390625 \r\nQ 39.65625 6.390625 43.53125 10.953125 \r\nQ 47.40625 15.53125 47.40625 23.390625 \r\nQ 47.40625 31.296875 43.53125 35.828125 \r\nQ 39.65625 40.375 33.015625 40.375 \r\nz\r\nM 52.59375 71.296875 \r\nL 52.59375 62.3125 \r\nQ 48.875 64.0625 45.09375 64.984375 \r\nQ 41.3125 65.921875 37.59375 65.921875 \r\nQ 27.828125 65.921875 22.671875 59.328125 \r\nQ 17.53125 52.734375 16.796875 39.40625 \r\nQ 19.671875 43.65625 24.015625 45.921875 \r\nQ 28.375 48.1875 33.59375 48.1875 \r\nQ 44.578125 48.1875 50.953125 41.515625 \r\nQ 57.328125 34.859375 57.328125 23.390625 \r\nQ 57.328125 12.15625 50.6875 5.359375 \r\nQ 44.046875 -1.421875 33.015625 -1.421875 \r\nQ 20.359375 -1.421875 13.671875 8.265625 \r\nQ 6.984375 17.96875 6.984375 36.375 \r\nQ 6.984375 53.65625 15.1875 63.9375 \r\nQ 23.390625 74.21875 37.203125 74.21875 \r\nQ 40.921875 74.21875 44.703125 73.484375 \r\nQ 48.484375 72.75 52.59375 71.296875 \r\nz\r\n\" id=\"DejaVuSans-54\"/>\r\n       <path d=\"M 31.78125 66.40625 \r\nQ 24.171875 66.40625 20.328125 58.90625 \r\nQ 16.5 51.421875 16.5 36.375 \r\nQ 16.5 21.390625 20.328125 13.890625 \r\nQ 24.171875 6.390625 31.78125 6.390625 \r\nQ 39.453125 6.390625 43.28125 13.890625 \r\nQ 47.125 21.390625 47.125 36.375 \r\nQ 47.125 51.421875 43.28125 58.90625 \r\nQ 39.453125 66.40625 31.78125 66.40625 \r\nz\r\nM 31.78125 74.21875 \r\nQ 44.046875 74.21875 50.515625 64.515625 \r\nQ 56.984375 54.828125 56.984375 36.375 \r\nQ 56.984375 17.96875 50.515625 8.265625 \r\nQ 44.046875 -1.421875 31.78125 -1.421875 \r\nQ 19.53125 -1.421875 13.0625 8.265625 \r\nQ 6.59375 17.96875 6.59375 36.375 \r\nQ 6.59375 54.828125 13.0625 64.515625 \r\nQ 19.53125 74.21875 31.78125 74.21875 \r\nz\r\n\" id=\"DejaVuSans-48\"/>\r\n      </defs>\r\n      <g transform=\"translate(33.711158 242.738437)scale(0.1 -0.1)\">\r\n       <use xlink:href=\"#DejaVuSans-49\"/>\r\n       <use x=\"63.623047\" xlink:href=\"#DejaVuSans-57\"/>\r\n       <use x=\"127.246094\" xlink:href=\"#DejaVuSans-54\"/>\r\n       <use x=\"190.869141\" xlink:href=\"#DejaVuSans-48\"/>\r\n      </g>\r\n     </g>\r\n    </g>\r\n    <g id=\"xtick_2\">\r\n     <g id=\"line2d_2\">\r\n      <g>\r\n       <use style=\"stroke:#000000;stroke-width:0.8;\" x=\"98.912647\" xlink:href=\"#m73457216b1\" y=\"228.14\"/>\r\n      </g>\r\n     </g>\r\n     <g id=\"text_2\">\r\n      <!-- 1970 -->\r\n      <defs>\r\n       <path d=\"M 8.203125 72.90625 \r\nL 55.078125 72.90625 \r\nL 55.078125 68.703125 \r\nL 28.609375 0 \r\nL 18.3125 0 \r\nL 43.21875 64.59375 \r\nL 8.203125 64.59375 \r\nz\r\n\" id=\"DejaVuSans-55\"/>\r\n      </defs>\r\n      <g transform=\"translate(86.187647 242.738437)scale(0.1 -0.1)\">\r\n       <use xlink:href=\"#DejaVuSans-49\"/>\r\n       <use x=\"63.623047\" xlink:href=\"#DejaVuSans-57\"/>\r\n       <use x=\"127.246094\" xlink:href=\"#DejaVuSans-55\"/>\r\n       <use x=\"190.869141\" xlink:href=\"#DejaVuSans-48\"/>\r\n      </g>\r\n     </g>\r\n    </g>\r\n    <g id=\"xtick_3\">\r\n     <g id=\"line2d_3\">\r\n      <g>\r\n       <use style=\"stroke:#000000;stroke-width:0.8;\" x=\"151.389136\" xlink:href=\"#m73457216b1\" y=\"228.14\"/>\r\n      </g>\r\n     </g>\r\n     <g id=\"text_3\">\r\n      <!-- 1980 -->\r\n      <defs>\r\n       <path d=\"M 31.78125 34.625 \r\nQ 24.75 34.625 20.71875 30.859375 \r\nQ 16.703125 27.09375 16.703125 20.515625 \r\nQ 16.703125 13.921875 20.71875 10.15625 \r\nQ 24.75 6.390625 31.78125 6.390625 \r\nQ 38.8125 6.390625 42.859375 10.171875 \r\nQ 46.921875 13.96875 46.921875 20.515625 \r\nQ 46.921875 27.09375 42.890625 30.859375 \r\nQ 38.875 34.625 31.78125 34.625 \r\nz\r\nM 21.921875 38.8125 \r\nQ 15.578125 40.375 12.03125 44.71875 \r\nQ 8.5 49.078125 8.5 55.328125 \r\nQ 8.5 64.0625 14.71875 69.140625 \r\nQ 20.953125 74.21875 31.78125 74.21875 \r\nQ 42.671875 74.21875 48.875 69.140625 \r\nQ 55.078125 64.0625 55.078125 55.328125 \r\nQ 55.078125 49.078125 51.53125 44.71875 \r\nQ 48 40.375 41.703125 38.8125 \r\nQ 48.828125 37.15625 52.796875 32.3125 \r\nQ 56.78125 27.484375 56.78125 20.515625 \r\nQ 56.78125 9.90625 50.3125 4.234375 \r\nQ 43.84375 -1.421875 31.78125 -1.421875 \r\nQ 19.734375 -1.421875 13.25 4.234375 \r\nQ 6.78125 9.90625 6.78125 20.515625 \r\nQ 6.78125 27.484375 10.78125 32.3125 \r\nQ 14.796875 37.15625 21.921875 38.8125 \r\nz\r\nM 18.3125 54.390625 \r\nQ 18.3125 48.734375 21.84375 45.5625 \r\nQ 25.390625 42.390625 31.78125 42.390625 \r\nQ 38.140625 42.390625 41.71875 45.5625 \r\nQ 45.3125 48.734375 45.3125 54.390625 \r\nQ 45.3125 60.0625 41.71875 63.234375 \r\nQ 38.140625 66.40625 31.78125 66.40625 \r\nQ 25.390625 66.40625 21.84375 63.234375 \r\nQ 18.3125 60.0625 18.3125 54.390625 \r\nz\r\n\" id=\"DejaVuSans-56\"/>\r\n      </defs>\r\n      <g transform=\"translate(138.664136 242.738437)scale(0.1 -0.1)\">\r\n       <use xlink:href=\"#DejaVuSans-49\"/>\r\n       <use x=\"63.623047\" xlink:href=\"#DejaVuSans-57\"/>\r\n       <use x=\"127.246094\" xlink:href=\"#DejaVuSans-56\"/>\r\n       <use x=\"190.869141\" xlink:href=\"#DejaVuSans-48\"/>\r\n      </g>\r\n     </g>\r\n    </g>\r\n    <g id=\"xtick_4\">\r\n     <g id=\"line2d_4\">\r\n      <g>\r\n       <use style=\"stroke:#000000;stroke-width:0.8;\" x=\"203.865625\" xlink:href=\"#m73457216b1\" y=\"228.14\"/>\r\n      </g>\r\n     </g>\r\n     <g id=\"text_4\">\r\n      <!-- 1990 -->\r\n      <g transform=\"translate(191.140625 242.738437)scale(0.1 -0.1)\">\r\n       <use xlink:href=\"#DejaVuSans-49\"/>\r\n       <use x=\"63.623047\" xlink:href=\"#DejaVuSans-57\"/>\r\n       <use x=\"127.246094\" xlink:href=\"#DejaVuSans-57\"/>\r\n       <use x=\"190.869141\" xlink:href=\"#DejaVuSans-48\"/>\r\n      </g>\r\n     </g>\r\n    </g>\r\n    <g id=\"xtick_5\">\r\n     <g id=\"line2d_5\">\r\n      <g>\r\n       <use style=\"stroke:#000000;stroke-width:0.8;\" x=\"256.342114\" xlink:href=\"#m73457216b1\" y=\"228.14\"/>\r\n      </g>\r\n     </g>\r\n     <g id=\"text_5\">\r\n      <!-- 2000 -->\r\n      <defs>\r\n       <path d=\"M 19.1875 8.296875 \r\nL 53.609375 8.296875 \r\nL 53.609375 0 \r\nL 7.328125 0 \r\nL 7.328125 8.296875 \r\nQ 12.9375 14.109375 22.625 23.890625 \r\nQ 32.328125 33.6875 34.8125 36.53125 \r\nQ 39.546875 41.84375 41.421875 45.53125 \r\nQ 43.3125 49.21875 43.3125 52.78125 \r\nQ 43.3125 58.59375 39.234375 62.25 \r\nQ 35.15625 65.921875 28.609375 65.921875 \r\nQ 23.96875 65.921875 18.8125 64.3125 \r\nQ 13.671875 62.703125 7.8125 59.421875 \r\nL 7.8125 69.390625 \r\nQ 13.765625 71.78125 18.9375 73 \r\nQ 24.125 74.21875 28.421875 74.21875 \r\nQ 39.75 74.21875 46.484375 68.546875 \r\nQ 53.21875 62.890625 53.21875 53.421875 \r\nQ 53.21875 48.921875 51.53125 44.890625 \r\nQ 49.859375 40.875 45.40625 35.40625 \r\nQ 44.1875 33.984375 37.640625 27.21875 \r\nQ 31.109375 20.453125 19.1875 8.296875 \r\nz\r\n\" id=\"DejaVuSans-50\"/>\r\n      </defs>\r\n      <g transform=\"translate(243.617114 242.738437)scale(0.1 -0.1)\">\r\n       <use xlink:href=\"#DejaVuSans-50\"/>\r\n       <use x=\"63.623047\" xlink:href=\"#DejaVuSans-48\"/>\r\n       <use x=\"127.246094\" xlink:href=\"#DejaVuSans-48\"/>\r\n       <use x=\"190.869141\" xlink:href=\"#DejaVuSans-48\"/>\r\n      </g>\r\n     </g>\r\n    </g>\r\n    <g id=\"xtick_6\">\r\n     <g id=\"line2d_6\">\r\n      <g>\r\n       <use style=\"stroke:#000000;stroke-width:0.8;\" x=\"308.818603\" xlink:href=\"#m73457216b1\" y=\"228.14\"/>\r\n      </g>\r\n     </g>\r\n     <g id=\"text_6\">\r\n      <!-- 2010 -->\r\n      <g transform=\"translate(296.093603 242.738437)scale(0.1 -0.1)\">\r\n       <use xlink:href=\"#DejaVuSans-50\"/>\r\n       <use x=\"63.623047\" xlink:href=\"#DejaVuSans-48\"/>\r\n       <use x=\"127.246094\" xlink:href=\"#DejaVuSans-49\"/>\r\n       <use x=\"190.869141\" xlink:href=\"#DejaVuSans-48\"/>\r\n      </g>\r\n     </g>\r\n    </g>\r\n    <g id=\"xtick_7\">\r\n     <g id=\"line2d_7\">\r\n      <g>\r\n       <use style=\"stroke:#000000;stroke-width:0.8;\" x=\"361.295092\" xlink:href=\"#m73457216b1\" y=\"228.14\"/>\r\n      </g>\r\n     </g>\r\n     <g id=\"text_7\">\r\n      <!-- 2020 -->\r\n      <g transform=\"translate(348.570092 242.738437)scale(0.1 -0.1)\">\r\n       <use xlink:href=\"#DejaVuSans-50\"/>\r\n       <use x=\"63.623047\" xlink:href=\"#DejaVuSans-48\"/>\r\n       <use x=\"127.246094\" xlink:href=\"#DejaVuSans-50\"/>\r\n       <use x=\"190.869141\" xlink:href=\"#DejaVuSans-48\"/>\r\n      </g>\r\n     </g>\r\n    </g>\r\n   </g>\r\n   <g id=\"matplotlib.axis_2\">\r\n    <g id=\"ytick_1\">\r\n     <g id=\"line2d_8\">\r\n      <defs>\r\n       <path d=\"M 0 0 \r\nL -3.5 0 \r\n\" id=\"m903b1329f1\" style=\"stroke:#000000;stroke-width:0.8;\"/>\r\n      </defs>\r\n      <g>\r\n       <use style=\"stroke:#000000;stroke-width:0.8;\" x=\"36.465625\" xlink:href=\"#m903b1329f1\" y=\"223.725119\"/>\r\n      </g>\r\n     </g>\r\n     <g id=\"text_8\">\r\n      <!-- 0.75 -->\r\n      <defs>\r\n       <path d=\"M 10.6875 12.40625 \r\nL 21 12.40625 \r\nL 21 0 \r\nL 10.6875 0 \r\nz\r\n\" id=\"DejaVuSans-46\"/>\r\n       <path d=\"M 10.796875 72.90625 \r\nL 49.515625 72.90625 \r\nL 49.515625 64.59375 \r\nL 19.828125 64.59375 \r\nL 19.828125 46.734375 \r\nQ 21.96875 47.46875 24.109375 47.828125 \r\nQ 26.265625 48.1875 28.421875 48.1875 \r\nQ 40.625 48.1875 47.75 41.5 \r\nQ 54.890625 34.8125 54.890625 23.390625 \r\nQ 54.890625 11.625 47.5625 5.09375 \r\nQ 40.234375 -1.421875 26.90625 -1.421875 \r\nQ 22.3125 -1.421875 17.546875 -0.640625 \r\nQ 12.796875 0.140625 7.71875 1.703125 \r\nL 7.71875 11.625 \r\nQ 12.109375 9.234375 16.796875 8.0625 \r\nQ 21.484375 6.890625 26.703125 6.890625 \r\nQ 35.15625 6.890625 40.078125 11.328125 \r\nQ 45.015625 15.765625 45.015625 23.390625 \r\nQ 45.015625 31 40.078125 35.4375 \r\nQ 35.15625 39.890625 26.703125 39.890625 \r\nQ 22.75 39.890625 18.8125 39.015625 \r\nQ 14.890625 38.140625 10.796875 36.28125 \r\nz\r\n\" id=\"DejaVuSans-53\"/>\r\n      </defs>\r\n      <g transform=\"translate(7.2 227.524338)scale(0.1 -0.1)\">\r\n       <use xlink:href=\"#DejaVuSans-48\"/>\r\n       <use x=\"63.623047\" xlink:href=\"#DejaVuSans-46\"/>\r\n       <use x=\"95.410156\" xlink:href=\"#DejaVuSans-55\"/>\r\n       <use x=\"159.033203\" xlink:href=\"#DejaVuSans-53\"/>\r\n      </g>\r\n     </g>\r\n    </g>\r\n    <g id=\"ytick_2\">\r\n     <g id=\"line2d_9\">\r\n      <g>\r\n       <use style=\"stroke:#000000;stroke-width:0.8;\" x=\"36.465625\" xlink:href=\"#m903b1329f1\" y=\"195.242017\"/>\r\n      </g>\r\n     </g>\r\n     <g id=\"text_9\">\r\n      <!-- 1.00 -->\r\n      <g transform=\"translate(7.2 199.041236)scale(0.1 -0.1)\">\r\n       <use xlink:href=\"#DejaVuSans-49\"/>\r\n       <use x=\"63.623047\" xlink:href=\"#DejaVuSans-46\"/>\r\n       <use x=\"95.410156\" xlink:href=\"#DejaVuSans-48\"/>\r\n       <use x=\"159.033203\" xlink:href=\"#DejaVuSans-48\"/>\r\n      </g>\r\n     </g>\r\n    </g>\r\n    <g id=\"ytick_3\">\r\n     <g id=\"line2d_10\">\r\n      <g>\r\n       <use style=\"stroke:#000000;stroke-width:0.8;\" x=\"36.465625\" xlink:href=\"#m903b1329f1\" y=\"166.758915\"/>\r\n      </g>\r\n     </g>\r\n     <g id=\"text_10\">\r\n      <!-- 1.25 -->\r\n      <g transform=\"translate(7.2 170.558134)scale(0.1 -0.1)\">\r\n       <use xlink:href=\"#DejaVuSans-49\"/>\r\n       <use x=\"63.623047\" xlink:href=\"#DejaVuSans-46\"/>\r\n       <use x=\"95.410156\" xlink:href=\"#DejaVuSans-50\"/>\r\n       <use x=\"159.033203\" xlink:href=\"#DejaVuSans-53\"/>\r\n      </g>\r\n     </g>\r\n    </g>\r\n    <g id=\"ytick_4\">\r\n     <g id=\"line2d_11\">\r\n      <g>\r\n       <use style=\"stroke:#000000;stroke-width:0.8;\" x=\"36.465625\" xlink:href=\"#m903b1329f1\" y=\"138.275813\"/>\r\n      </g>\r\n     </g>\r\n     <g id=\"text_11\">\r\n      <!-- 1.50 -->\r\n      <g transform=\"translate(7.2 142.075032)scale(0.1 -0.1)\">\r\n       <use xlink:href=\"#DejaVuSans-49\"/>\r\n       <use x=\"63.623047\" xlink:href=\"#DejaVuSans-46\"/>\r\n       <use x=\"95.410156\" xlink:href=\"#DejaVuSans-53\"/>\r\n       <use x=\"159.033203\" xlink:href=\"#DejaVuSans-48\"/>\r\n      </g>\r\n     </g>\r\n    </g>\r\n    <g id=\"ytick_5\">\r\n     <g id=\"line2d_12\">\r\n      <g>\r\n       <use style=\"stroke:#000000;stroke-width:0.8;\" x=\"36.465625\" xlink:href=\"#m903b1329f1\" y=\"109.792712\"/>\r\n      </g>\r\n     </g>\r\n     <g id=\"text_12\">\r\n      <!-- 1.75 -->\r\n      <g transform=\"translate(7.2 113.59193)scale(0.1 -0.1)\">\r\n       <use xlink:href=\"#DejaVuSans-49\"/>\r\n       <use x=\"63.623047\" xlink:href=\"#DejaVuSans-46\"/>\r\n       <use x=\"95.410156\" xlink:href=\"#DejaVuSans-55\"/>\r\n       <use x=\"159.033203\" xlink:href=\"#DejaVuSans-53\"/>\r\n      </g>\r\n     </g>\r\n    </g>\r\n    <g id=\"ytick_6\">\r\n     <g id=\"line2d_13\">\r\n      <g>\r\n       <use style=\"stroke:#000000;stroke-width:0.8;\" x=\"36.465625\" xlink:href=\"#m903b1329f1\" y=\"81.30961\"/>\r\n      </g>\r\n     </g>\r\n     <g id=\"text_13\">\r\n      <!-- 2.00 -->\r\n      <g transform=\"translate(7.2 85.108828)scale(0.1 -0.1)\">\r\n       <use xlink:href=\"#DejaVuSans-50\"/>\r\n       <use x=\"63.623047\" xlink:href=\"#DejaVuSans-46\"/>\r\n       <use x=\"95.410156\" xlink:href=\"#DejaVuSans-48\"/>\r\n       <use x=\"159.033203\" xlink:href=\"#DejaVuSans-48\"/>\r\n      </g>\r\n     </g>\r\n    </g>\r\n    <g id=\"ytick_7\">\r\n     <g id=\"line2d_14\">\r\n      <g>\r\n       <use style=\"stroke:#000000;stroke-width:0.8;\" x=\"36.465625\" xlink:href=\"#m903b1329f1\" y=\"52.826508\"/>\r\n      </g>\r\n     </g>\r\n     <g id=\"text_14\">\r\n      <!-- 2.25 -->\r\n      <g transform=\"translate(7.2 56.625726)scale(0.1 -0.1)\">\r\n       <use xlink:href=\"#DejaVuSans-50\"/>\r\n       <use x=\"63.623047\" xlink:href=\"#DejaVuSans-46\"/>\r\n       <use x=\"95.410156\" xlink:href=\"#DejaVuSans-50\"/>\r\n       <use x=\"159.033203\" xlink:href=\"#DejaVuSans-53\"/>\r\n      </g>\r\n     </g>\r\n    </g>\r\n    <g id=\"ytick_8\">\r\n     <g id=\"line2d_15\">\r\n      <g>\r\n       <use style=\"stroke:#000000;stroke-width:0.8;\" x=\"36.465625\" xlink:href=\"#m903b1329f1\" y=\"24.343406\"/>\r\n      </g>\r\n     </g>\r\n     <g id=\"text_15\">\r\n      <!-- 2.50 -->\r\n      <g transform=\"translate(7.2 28.142625)scale(0.1 -0.1)\">\r\n       <use xlink:href=\"#DejaVuSans-50\"/>\r\n       <use x=\"63.623047\" xlink:href=\"#DejaVuSans-46\"/>\r\n       <use x=\"95.410156\" xlink:href=\"#DejaVuSans-53\"/>\r\n       <use x=\"159.033203\" xlink:href=\"#DejaVuSans-48\"/>\r\n      </g>\r\n     </g>\r\n    </g>\r\n   </g>\r\n   <g id=\"line2d_16\">\r\n    <path clip-path=\"url(#pad2b32ff88)\" d=\"M 51.683807 218.256364 \r\nL 56.931456 218.256364 \r\nL 62.179105 218.256364 \r\nL 67.426754 201.5083 \r\nL 72.674402 218.256364 \r\nL 77.922051 162.885214 \r\nL 83.1697 218.256364 \r\nL 88.417349 218.256364 \r\nL 93.664998 161.518025 \r\nL 98.912647 218.256364 \r\nL 104.160296 218.256364 \r\nL 109.407945 182.823385 \r\nL 114.655594 141.351988 \r\nL 119.903243 204.926272 \r\nL 125.150891 218.256364 \r\nL 130.39854 114.46394 \r\nL 135.646189 151.947702 \r\nL 140.893838 218.256364 \r\nL 146.141487 142.83311 \r\nL 151.389136 184.076641 \r\nL 156.636785 218.256364 \r\nL 161.884434 207.774582 \r\nL 167.132083 218.256364 \r\nL 172.379732 206.977055 \r\nL 177.62738 150.238716 \r\nL 182.875029 218.256364 \r\nL 188.122678 175.645643 \r\nL 193.370327 170.062955 \r\nL 198.617976 218.256364 \r\nL 203.865625 149.441189 \r\nL 209.113274 218.256364 \r\nL 214.360923 218.256364 \r\nL 219.608572 218.256364 \r\nL 224.856221 184.304506 \r\nL 230.10387 146.13715 \r\nL 235.351518 180.544737 \r\nL 240.599167 218.256364 \r\nL 245.846816 176.215305 \r\nL 251.094465 165.619591 \r\nL 256.342114 179.063615 \r\nL 261.589763 170.518685 \r\nL 266.837412 129.844815 \r\nL 272.085061 207.20492 \r\nL 277.33271 96.576552 \r\nL 282.580359 155.023877 \r\nL 287.828007 20.583636 \r\nL 293.075656 208.913906 \r\nL 298.323305 109.336982 \r\nL 303.570954 119.476966 \r\nL 308.818603 59.434587 \r\nL 314.066252 171.430144 \r\nL 319.313901 183.279114 \r\nL 324.56155 218.256364 \r\nL 329.809199 146.934676 \r\nL 335.056848 124.945722 \r\nL 340.304496 106.716537 \r\nL 345.552145 162.657349 \r\nL 350.799794 150.238716 \r\nL 356.047443 129.503018 \r\n\" style=\"fill:none;stroke:#1f77b4;stroke-linecap:square;stroke-width:1.5;\"/>\r\n   </g>\r\n   <g id=\"patch_3\">\r\n    <path d=\"M 36.465625 228.14 \r\nL 36.465625 10.7 \r\n\" style=\"fill:none;stroke:#000000;stroke-linecap:square;stroke-linejoin:miter;stroke-width:0.8;\"/>\r\n   </g>\r\n   <g id=\"patch_4\">\r\n    <path d=\"M 371.265625 228.14 \r\nL 371.265625 10.7 \r\n\" style=\"fill:none;stroke:#000000;stroke-linecap:square;stroke-linejoin:miter;stroke-width:0.8;\"/>\r\n   </g>\r\n   <g id=\"patch_5\">\r\n    <path d=\"M 36.465625 228.14 \r\nL 371.265625 228.14 \r\n\" style=\"fill:none;stroke:#000000;stroke-linecap:square;stroke-linejoin:miter;stroke-width:0.8;\"/>\r\n   </g>\r\n   <g id=\"patch_6\">\r\n    <path d=\"M 36.465625 10.7 \r\nL 371.265625 10.7 \r\n\" style=\"fill:none;stroke:#000000;stroke-linecap:square;stroke-linejoin:miter;stroke-width:0.8;\"/>\r\n   </g>\r\n  </g>\r\n </g>\r\n <defs>\r\n  <clipPath id=\"pad2b32ff88\">\r\n   <rect height=\"217.44\" width=\"334.8\" x=\"36.465625\" y=\"10.7\"/>\r\n  </clipPath>\r\n </defs>\r\n</svg>\r\n",
      "image/png": "[encoded data removed]"
     },
     "metadata": {
      "needs_background": "light"
     }
    }
   ],
   "source": [
    "df.groupby(df.index).max().loc['India', years].plot(kind='line')"
   ]
  },
  {
   "cell_type": "code",
   "execution_count": 5,
   "metadata": {},
   "outputs": [],
   "source": [
    "df1 = pd.read_excel('dataset/climate_change_1.xls')"
   ]
  },
  {
   "cell_type": "code",
   "execution_count": 6,
   "metadata": {},
   "outputs": [
    {
     "output_type": "execute_result",
     "data": {
      "text/plain": [
       "  Country code Country name     Series code  \\\n",
       "0          ABW        Aruba  AG.LND.EL5M.ZS   \n",
       "1          ADO      Andorra  AG.LND.EL5M.ZS   \n",
       "2          AFG  Afghanistan  AG.LND.EL5M.ZS   \n",
       "3          AGO       Angola  AG.LND.EL5M.ZS   \n",
       "4          ALB      Albania  AG.LND.EL5M.ZS   \n",
       "\n",
       "                           Series name SCALE Decimals      1990 1991 1992  \\\n",
       "0  Land area below 5m (% of land area)     0        1   29.5748   ..   ..   \n",
       "1  Land area below 5m (% of land area)     0        1         0   ..   ..   \n",
       "2  Land area below 5m (% of land area)     0        1         0   ..   ..   \n",
       "3  Land area below 5m (% of land area)     0        1  0.208235   ..   ..   \n",
       "4  Land area below 5m (% of land area)     0        1   4.96788   ..   ..   \n",
       "\n",
       "  1993  ... 2002 2003 2004 2005 2006 2007 2008 2009 2010 2011  \n",
       "0   ..  ...   ..   ..   ..   ..   ..   ..   ..   ..   ..   ..  \n",
       "1   ..  ...   ..   ..   ..   ..   ..   ..   ..   ..   ..   ..  \n",
       "2   ..  ...   ..   ..   ..   ..   ..   ..   ..   ..   ..   ..  \n",
       "3   ..  ...   ..   ..   ..   ..   ..   ..   ..   ..   ..   ..  \n",
       "4   ..  ...   ..   ..   ..   ..   ..   ..   ..   ..   ..   ..  \n",
       "\n",
       "[5 rows x 28 columns]"
      ],
      "text/html": "<div>\n<style scoped>\n    .dataframe tbody tr th:only-of-type {\n        vertical-align: middle;\n    }\n\n    .dataframe tbody tr th {\n        vertical-align: top;\n    }\n\n    .dataframe thead th {\n        text-align: right;\n    }\n</style>\n<table border=\"1\" class=\"dataframe\">\n  <thead>\n    <tr style=\"text-align: right;\">\n      <th></th>\n      <th>Country code</th>\n      <th>Country name</th>\n      <th>Series code</th>\n      <th>Series name</th>\n      <th>SCALE</th>\n      <th>Decimals</th>\n      <th>1990</th>\n      <th>1991</th>\n      <th>1992</th>\n      <th>1993</th>\n      <th>...</th>\n      <th>2002</th>\n      <th>2003</th>\n      <th>2004</th>\n      <th>2005</th>\n      <th>2006</th>\n      <th>2007</th>\n      <th>2008</th>\n      <th>2009</th>\n      <th>2010</th>\n      <th>2011</th>\n    </tr>\n  </thead>\n  <tbody>\n    <tr>\n      <th>0</th>\n      <td>ABW</td>\n      <td>Aruba</td>\n      <td>AG.LND.EL5M.ZS</td>\n      <td>Land area below 5m (% of land area)</td>\n      <td>0</td>\n      <td>1</td>\n      <td>29.5748</td>\n      <td>..</td>\n      <td>..</td>\n      <td>..</td>\n      <td>...</td>\n      <td>..</td>\n      <td>..</td>\n      <td>..</td>\n      <td>..</td>\n      <td>..</td>\n      <td>..</td>\n      <td>..</td>\n      <td>..</td>\n      <td>..</td>\n      <td>..</td>\n    </tr>\n    <tr>\n      <th>1</th>\n      <td>ADO</td>\n      <td>Andorra</td>\n      <td>AG.LND.EL5M.ZS</td>\n      <td>Land area below 5m (% of land area)</td>\n      <td>0</td>\n      <td>1</td>\n      <td>0</td>\n      <td>..</td>\n      <td>..</td>\n      <td>..</td>\n      <td>...</td>\n      <td>..</td>\n      <td>..</td>\n      <td>..</td>\n      <td>..</td>\n      <td>..</td>\n      <td>..</td>\n      <td>..</td>\n      <td>..</td>\n      <td>..</td>\n      <td>..</td>\n    </tr>\n    <tr>\n      <th>2</th>\n      <td>AFG</td>\n      <td>Afghanistan</td>\n      <td>AG.LND.EL5M.ZS</td>\n      <td>Land area below 5m (% of land area)</td>\n      <td>0</td>\n      <td>1</td>\n      <td>0</td>\n      <td>..</td>\n      <td>..</td>\n      <td>..</td>\n      <td>...</td>\n      <td>..</td>\n      <td>..</td>\n      <td>..</td>\n      <td>..</td>\n      <td>..</td>\n      <td>..</td>\n      <td>..</td>\n      <td>..</td>\n      <td>..</td>\n      <td>..</td>\n    </tr>\n    <tr>\n      <th>3</th>\n      <td>AGO</td>\n      <td>Angola</td>\n      <td>AG.LND.EL5M.ZS</td>\n      <td>Land area below 5m (% of land area)</td>\n      <td>0</td>\n      <td>1</td>\n      <td>0.208235</td>\n      <td>..</td>\n      <td>..</td>\n      <td>..</td>\n      <td>...</td>\n      <td>..</td>\n      <td>..</td>\n      <td>..</td>\n      <td>..</td>\n      <td>..</td>\n      <td>..</td>\n      <td>..</td>\n      <td>..</td>\n      <td>..</td>\n      <td>..</td>\n    </tr>\n    <tr>\n      <th>4</th>\n      <td>ALB</td>\n      <td>Albania</td>\n      <td>AG.LND.EL5M.ZS</td>\n      <td>Land area below 5m (% of land area)</td>\n      <td>0</td>\n      <td>1</td>\n      <td>4.96788</td>\n      <td>..</td>\n      <td>..</td>\n      <td>..</td>\n      <td>...</td>\n      <td>..</td>\n      <td>..</td>\n      <td>..</td>\n      <td>..</td>\n      <td>..</td>\n      <td>..</td>\n      <td>..</td>\n      <td>..</td>\n      <td>..</td>\n      <td>..</td>\n    </tr>\n  </tbody>\n</table>\n<p>5 rows × 28 columns</p>\n</div>"
     },
     "metadata": {},
     "execution_count": 6
    }
   ],
   "source": [
    "df1.head()"
   ]
  },
  {
   "cell_type": "code",
   "execution_count": 13,
   "metadata": {},
   "outputs": [
    {
     "output_type": "stream",
     "name": "stdout",
     "text": [
      "WARNING *** OLE2 inconsistency: SSCS size is 0 but SSAT size is non-zero\n"
     ]
    }
   ],
   "source": [
    "df2 = pd.read_excel('dataset/flood_damage.xls')"
   ]
  },
  {
   "cell_type": "code",
   "execution_count": 15,
   "metadata": {},
   "outputs": [],
   "source": [
    "df3 = pd.read_csv('dataset/natural-disasters-loss.csv')"
   ]
  },
  {
   "cell_type": "code",
   "execution_count": 25,
   "metadata": {},
   "outputs": [
    {
     "output_type": "execute_result",
     "data": {
      "text/plain": [
       "                    Entity  Code  Year  \\\n",
       "0    All natural disasters   NaN  1900   \n",
       "1    All natural disasters   NaN  1901   \n",
       "2    All natural disasters   NaN  1902   \n",
       "3    All natural disasters   NaN  1903   \n",
       "4    All natural disasters   NaN  1904   \n",
       "..                     ...   ...   ...   \n",
       "556               Wildfire   NaN  2014   \n",
       "557               Wildfire   NaN  2015   \n",
       "558               Wildfire   NaN  2016   \n",
       "559               Wildfire   NaN  2017   \n",
       "560               Wildfire   NaN  2018   \n",
       "\n",
       "     Total economic damage from natural disasters (US$)  \n",
       "0                                             30000000   \n",
       "1                                                    0   \n",
       "2                                                    0   \n",
       "3                                            480000000   \n",
       "4                                                    0   \n",
       "..                                                 ...   \n",
       "556                                          259000000   \n",
       "557                                         3439820000   \n",
       "558                                         6287000000   \n",
       "559                                         1019000000   \n",
       "560                                        22745000000   \n",
       "\n",
       "[561 rows x 4 columns]"
      ],
      "text/html": "<div>\n<style scoped>\n    .dataframe tbody tr th:only-of-type {\n        vertical-align: middle;\n    }\n\n    .dataframe tbody tr th {\n        vertical-align: top;\n    }\n\n    .dataframe thead th {\n        text-align: right;\n    }\n</style>\n<table border=\"1\" class=\"dataframe\">\n  <thead>\n    <tr style=\"text-align: right;\">\n      <th></th>\n      <th>Entity</th>\n      <th>Code</th>\n      <th>Year</th>\n      <th>Total economic damage from natural disasters (US$)</th>\n    </tr>\n  </thead>\n  <tbody>\n    <tr>\n      <th>0</th>\n      <td>All natural disasters</td>\n      <td>NaN</td>\n      <td>1900</td>\n      <td>30000000</td>\n    </tr>\n    <tr>\n      <th>1</th>\n      <td>All natural disasters</td>\n      <td>NaN</td>\n      <td>1901</td>\n      <td>0</td>\n    </tr>\n    <tr>\n      <th>2</th>\n      <td>All natural disasters</td>\n      <td>NaN</td>\n      <td>1902</td>\n      <td>0</td>\n    </tr>\n    <tr>\n      <th>3</th>\n      <td>All natural disasters</td>\n      <td>NaN</td>\n      <td>1903</td>\n      <td>480000000</td>\n    </tr>\n    <tr>\n      <th>4</th>\n      <td>All natural disasters</td>\n      <td>NaN</td>\n      <td>1904</td>\n      <td>0</td>\n    </tr>\n    <tr>\n      <th>...</th>\n      <td>...</td>\n      <td>...</td>\n      <td>...</td>\n      <td>...</td>\n    </tr>\n    <tr>\n      <th>556</th>\n      <td>Wildfire</td>\n      <td>NaN</td>\n      <td>2014</td>\n      <td>259000000</td>\n    </tr>\n    <tr>\n      <th>557</th>\n      <td>Wildfire</td>\n      <td>NaN</td>\n      <td>2015</td>\n      <td>3439820000</td>\n    </tr>\n    <tr>\n      <th>558</th>\n      <td>Wildfire</td>\n      <td>NaN</td>\n      <td>2016</td>\n      <td>6287000000</td>\n    </tr>\n    <tr>\n      <th>559</th>\n      <td>Wildfire</td>\n      <td>NaN</td>\n      <td>2017</td>\n      <td>1019000000</td>\n    </tr>\n    <tr>\n      <th>560</th>\n      <td>Wildfire</td>\n      <td>NaN</td>\n      <td>2018</td>\n      <td>22745000000</td>\n    </tr>\n  </tbody>\n</table>\n<p>561 rows × 4 columns</p>\n</div>"
     },
     "metadata": {},
     "execution_count": 25
    }
   ],
   "source": [
    "df3"
   ]
  },
  {
   "cell_type": "code",
   "execution_count": 19,
   "metadata": {},
   "outputs": [],
   "source": [
    "df4 = pd.read_csv('dataset/natural-disaster-events.csv')"
   ]
  },
  {
   "cell_type": "code",
   "execution_count": 26,
   "metadata": {},
   "outputs": [
    {
     "output_type": "execute_result",
     "data": {
      "text/plain": [
       "                    Entity  Code  Year  \\\n",
       "0    All natural disasters   NaN  1900   \n",
       "1    All natural disasters   NaN  1901   \n",
       "2    All natural disasters   NaN  1902   \n",
       "3    All natural disasters   NaN  1903   \n",
       "4    All natural disasters   NaN  1904   \n",
       "..                     ...   ...   ...   \n",
       "823               Wildfire   NaN  2014   \n",
       "824               Wildfire   NaN  2015   \n",
       "825               Wildfire   NaN  2016   \n",
       "826               Wildfire   NaN  2017   \n",
       "827               Wildfire   NaN  2018   \n",
       "\n",
       "     Number of reported natural disasters (reported disasters)  \n",
       "0                                                    5          \n",
       "1                                                    2          \n",
       "2                                                    9          \n",
       "3                                                    8          \n",
       "4                                                    2          \n",
       "..                                                 ...          \n",
       "823                                                  4          \n",
       "824                                                 12          \n",
       "825                                                 10          \n",
       "826                                                 13          \n",
       "827                                                 10          \n",
       "\n",
       "[828 rows x 4 columns]"
      ],
      "text/html": "<div>\n<style scoped>\n    .dataframe tbody tr th:only-of-type {\n        vertical-align: middle;\n    }\n\n    .dataframe tbody tr th {\n        vertical-align: top;\n    }\n\n    .dataframe thead th {\n        text-align: right;\n    }\n</style>\n<table border=\"1\" class=\"dataframe\">\n  <thead>\n    <tr style=\"text-align: right;\">\n      <th></th>\n      <th>Entity</th>\n      <th>Code</th>\n      <th>Year</th>\n      <th>Number of reported natural disasters (reported disasters)</th>\n    </tr>\n  </thead>\n  <tbody>\n    <tr>\n      <th>0</th>\n      <td>All natural disasters</td>\n      <td>NaN</td>\n      <td>1900</td>\n      <td>5</td>\n    </tr>\n    <tr>\n      <th>1</th>\n      <td>All natural disasters</td>\n      <td>NaN</td>\n      <td>1901</td>\n      <td>2</td>\n    </tr>\n    <tr>\n      <th>2</th>\n      <td>All natural disasters</td>\n      <td>NaN</td>\n      <td>1902</td>\n      <td>9</td>\n    </tr>\n    <tr>\n      <th>3</th>\n      <td>All natural disasters</td>\n      <td>NaN</td>\n      <td>1903</td>\n      <td>8</td>\n    </tr>\n    <tr>\n      <th>4</th>\n      <td>All natural disasters</td>\n      <td>NaN</td>\n      <td>1904</td>\n      <td>2</td>\n    </tr>\n    <tr>\n      <th>...</th>\n      <td>...</td>\n      <td>...</td>\n      <td>...</td>\n      <td>...</td>\n    </tr>\n    <tr>\n      <th>823</th>\n      <td>Wildfire</td>\n      <td>NaN</td>\n      <td>2014</td>\n      <td>4</td>\n    </tr>\n    <tr>\n      <th>824</th>\n      <td>Wildfire</td>\n      <td>NaN</td>\n      <td>2015</td>\n      <td>12</td>\n    </tr>\n    <tr>\n      <th>825</th>\n      <td>Wildfire</td>\n      <td>NaN</td>\n      <td>2016</td>\n      <td>10</td>\n    </tr>\n    <tr>\n      <th>826</th>\n      <td>Wildfire</td>\n      <td>NaN</td>\n      <td>2017</td>\n      <td>13</td>\n    </tr>\n    <tr>\n      <th>827</th>\n      <td>Wildfire</td>\n      <td>NaN</td>\n      <td>2018</td>\n      <td>10</td>\n    </tr>\n  </tbody>\n</table>\n<p>828 rows × 4 columns</p>\n</div>"
     },
     "metadata": {},
     "execution_count": 26
    }
   ],
   "source": [
    "df4"
   ]
  },
  {
   "cell_type": "code",
   "execution_count": 32,
   "metadata": {},
   "outputs": [],
   "source": [
    "df5 = pd.read_excel('dataset/ramsar-slr-august2013.xls')"
   ]
  },
  {
   "cell_type": "code",
   "execution_count": 33,
   "metadata": {},
   "outputs": [
    {
     "output_type": "execute_result",
     "data": {
      "text/plain": [
       "  Sea Level Rise Impacts on Ramsar Wetlands of International Importance, v1 (2000 – 2010)\n",
       "0  http://sedac.ciesin.columbia.edu/data/set/lecz...                                     \n",
       "1  Center for International Earth Science Informa...                                     \n",
       "2               Earth Institute, Columbia University                                     \n",
       "3                                          July 2013                                     \n",
       "4  Suggested Citation:  Center for International ...                                     "
      ],
      "text/html": "<div>\n<style scoped>\n    .dataframe tbody tr th:only-of-type {\n        vertical-align: middle;\n    }\n\n    .dataframe tbody tr th {\n        vertical-align: top;\n    }\n\n    .dataframe thead th {\n        text-align: right;\n    }\n</style>\n<table border=\"1\" class=\"dataframe\">\n  <thead>\n    <tr style=\"text-align: right;\">\n      <th></th>\n      <th>Sea Level Rise Impacts on Ramsar Wetlands of International Importance, v1 (2000 – 2010)</th>\n    </tr>\n  </thead>\n  <tbody>\n    <tr>\n      <th>0</th>\n      <td>http://sedac.ciesin.columbia.edu/data/set/lecz...</td>\n    </tr>\n    <tr>\n      <th>1</th>\n      <td>Center for International Earth Science Informa...</td>\n    </tr>\n    <tr>\n      <th>2</th>\n      <td>Earth Institute, Columbia University</td>\n    </tr>\n    <tr>\n      <th>3</th>\n      <td>July 2013</td>\n    </tr>\n    <tr>\n      <th>4</th>\n      <td>Suggested Citation:  Center for International ...</td>\n    </tr>\n  </tbody>\n</table>\n</div>"
     },
     "metadata": {},
     "execution_count": 33
    }
   ],
   "source": [
    "df5.head()"
   ]
  },
  {
   "cell_type": "code",
   "execution_count": 34,
   "metadata": {},
   "outputs": [],
   "source": [
    "df6 = pd.read_csv('dataset/sea_levels_2015.csv')"
   ]
  },
  {
   "cell_type": "code",
   "execution_count": 35,
   "metadata": {},
   "outputs": [
    {
     "output_type": "execute_result",
     "data": {
      "text/plain": [
       "            Time   GMSL  GMSL uncertainty\n",
       "0     1880-01-15 -183.0              24.2\n",
       "1     1880-02-15 -171.1              24.2\n",
       "2     1880-03-15 -164.3              24.2\n",
       "3     1880-04-15 -158.2              24.2\n",
       "4     1880-05-15 -158.7              24.2\n",
       "...          ...    ...               ...\n",
       "1603  2013-08-15   71.6               8.8\n",
       "1604  2013-09-15   68.8               8.8\n",
       "1605  2013-10-15   66.4               8.9\n",
       "1606  2013-11-15   59.7               9.0\n",
       "1607  2013-12-15   58.5               9.0\n",
       "\n",
       "[1608 rows x 3 columns]"
      ],
      "text/html": "<div>\n<style scoped>\n    .dataframe tbody tr th:only-of-type {\n        vertical-align: middle;\n    }\n\n    .dataframe tbody tr th {\n        vertical-align: top;\n    }\n\n    .dataframe thead th {\n        text-align: right;\n    }\n</style>\n<table border=\"1\" class=\"dataframe\">\n  <thead>\n    <tr style=\"text-align: right;\">\n      <th></th>\n      <th>Time</th>\n      <th>GMSL</th>\n      <th>GMSL uncertainty</th>\n    </tr>\n  </thead>\n  <tbody>\n    <tr>\n      <th>0</th>\n      <td>1880-01-15</td>\n      <td>-183.0</td>\n      <td>24.2</td>\n    </tr>\n    <tr>\n      <th>1</th>\n      <td>1880-02-15</td>\n      <td>-171.1</td>\n      <td>24.2</td>\n    </tr>\n    <tr>\n      <th>2</th>\n      <td>1880-03-15</td>\n      <td>-164.3</td>\n      <td>24.2</td>\n    </tr>\n    <tr>\n      <th>3</th>\n      <td>1880-04-15</td>\n      <td>-158.2</td>\n      <td>24.2</td>\n    </tr>\n    <tr>\n      <th>4</th>\n      <td>1880-05-15</td>\n      <td>-158.7</td>\n      <td>24.2</td>\n    </tr>\n    <tr>\n      <th>...</th>\n      <td>...</td>\n      <td>...</td>\n      <td>...</td>\n    </tr>\n    <tr>\n      <th>1603</th>\n      <td>2013-08-15</td>\n      <td>71.6</td>\n      <td>8.8</td>\n    </tr>\n    <tr>\n      <th>1604</th>\n      <td>2013-09-15</td>\n      <td>68.8</td>\n      <td>8.8</td>\n    </tr>\n    <tr>\n      <th>1605</th>\n      <td>2013-10-15</td>\n      <td>66.4</td>\n      <td>8.9</td>\n    </tr>\n    <tr>\n      <th>1606</th>\n      <td>2013-11-15</td>\n      <td>59.7</td>\n      <td>9.0</td>\n    </tr>\n    <tr>\n      <th>1607</th>\n      <td>2013-12-15</td>\n      <td>58.5</td>\n      <td>9.0</td>\n    </tr>\n  </tbody>\n</table>\n<p>1608 rows × 3 columns</p>\n</div>"
     },
     "metadata": {},
     "execution_count": 35
    }
   ],
   "source": [
    "df6"
   ]
  },
  {
   "cell_type": "code",
   "execution_count": null,
   "metadata": {},
   "outputs": [],
   "source": []
  }
 ]
}