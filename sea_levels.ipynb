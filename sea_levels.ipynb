{
 "metadata": {
  "language_info": {
   "codemirror_mode": {
    "name": "ipython",
    "version": 3
   },
   "file_extension": ".py",
   "mimetype": "text/x-python",
   "name": "python",
   "nbconvert_exporter": "python",
   "pygments_lexer": "ipython3",
   "version": "3.7.3"
  },
  "orig_nbformat": 2,
  "kernelspec": {
   "name": "python373jvsc74a57bd02b9cd5c3ec4eb793e30b3fe22fb3034f3d8c9722bad10f4cedbbd7faa7e7f261",
   "display_name": "Python 3.7.3 64-bit ('base': conda)"
  },
  "metadata": {
   "interpreter": {
    "hash": "eb46296dad870af0d9c01f7eafe75df3b3bf78460e70938634c320dcb920b6f3"
   }
  }
 },
 "nbformat": 4,
 "nbformat_minor": 2,
 "cells": [
  {
   "cell_type": "code",
   "execution_count": 1,
   "metadata": {},
   "outputs": [],
   "source": [
    "import pandas as pd"
   ]
  },
  {
   "cell_type": "code",
   "execution_count": 8,
   "metadata": {},
   "outputs": [],
   "source": [
    "df = pd.read_csv('dataset/sea_levels_2015.csv', parse_dates=['Time'])"
   ]
  },
  {
   "cell_type": "code",
   "execution_count": 4,
   "metadata": {},
   "outputs": [
    {
     "output_type": "stream",
     "name": "stdout",
     "text": [
      "<class 'pandas.core.frame.DataFrame'>\nRangeIndex: 1608 entries, 0 to 1607\nData columns (total 3 columns):\n #   Column            Non-Null Count  Dtype  \n---  ------            --------------  -----  \n 0   Time              1608 non-null   object \n 1   GMSL              1608 non-null   float64\n 2   GMSL uncertainty  1608 non-null   float64\ndtypes: float64(2), object(1)\nmemory usage: 37.8+ KB\n"
     ]
    }
   ],
   "source": [
    "df.info()"
   ]
  },
  {
   "cell_type": "code",
   "execution_count": 22,
   "metadata": {},
   "outputs": [],
   "source": [
    "df['Year'] = pd.DatetimeIndex(df['Time']).year"
   ]
  },
  {
   "cell_type": "code",
   "execution_count": 23,
   "metadata": {},
   "outputs": [
    {
     "output_type": "execute_result",
     "data": {
      "text/plain": [
       "            GMSL  GMSL uncertainty\n",
       "Year                              \n",
       "1880 -158.725000         24.200000\n",
       "1881 -153.058333         24.200000\n",
       "1882 -169.883333         23.008333\n",
       "1883 -164.591667         22.800000\n",
       "1884 -143.750000         22.200000\n",
       "...          ...               ...\n",
       "2009   58.016667          6.883333\n",
       "2010   65.750000          7.116667\n",
       "2011   67.300000          7.550000\n",
       "2012   76.083333          8.300000\n",
       "2013   67.725000          8.841667\n",
       "\n",
       "[134 rows x 2 columns]"
      ],
      "text/html": "<div>\n<style scoped>\n    .dataframe tbody tr th:only-of-type {\n        vertical-align: middle;\n    }\n\n    .dataframe tbody tr th {\n        vertical-align: top;\n    }\n\n    .dataframe thead th {\n        text-align: right;\n    }\n</style>\n<table border=\"1\" class=\"dataframe\">\n  <thead>\n    <tr style=\"text-align: right;\">\n      <th></th>\n      <th>GMSL</th>\n      <th>GMSL uncertainty</th>\n    </tr>\n    <tr>\n      <th>Year</th>\n      <th></th>\n      <th></th>\n    </tr>\n  </thead>\n  <tbody>\n    <tr>\n      <th>1880</th>\n      <td>-158.725000</td>\n      <td>24.200000</td>\n    </tr>\n    <tr>\n      <th>1881</th>\n      <td>-153.058333</td>\n      <td>24.200000</td>\n    </tr>\n    <tr>\n      <th>1882</th>\n      <td>-169.883333</td>\n      <td>23.008333</td>\n    </tr>\n    <tr>\n      <th>1883</th>\n      <td>-164.591667</td>\n      <td>22.800000</td>\n    </tr>\n    <tr>\n      <th>1884</th>\n      <td>-143.750000</td>\n      <td>22.200000</td>\n    </tr>\n    <tr>\n      <th>...</th>\n      <td>...</td>\n      <td>...</td>\n    </tr>\n    <tr>\n      <th>2009</th>\n      <td>58.016667</td>\n      <td>6.883333</td>\n    </tr>\n    <tr>\n      <th>2010</th>\n      <td>65.750000</td>\n      <td>7.116667</td>\n    </tr>\n    <tr>\n      <th>2011</th>\n      <td>67.300000</td>\n      <td>7.550000</td>\n    </tr>\n    <tr>\n      <th>2012</th>\n      <td>76.083333</td>\n      <td>8.300000</td>\n    </tr>\n    <tr>\n      <th>2013</th>\n      <td>67.725000</td>\n      <td>8.841667</td>\n    </tr>\n  </tbody>\n</table>\n<p>134 rows × 2 columns</p>\n</div>"
     },
     "metadata": {},
     "execution_count": 23
    }
   ],
   "source": [
    "df.groupby('Year', as_index=False).mean()"
   ]
  },
  {
   "cell_type": "code",
   "execution_count": null,
   "metadata": {},
   "outputs": [],
   "source": []
  },
  {
   "cell_type": "code",
   "execution_count": null,
   "metadata": {},
   "outputs": [],
   "source": []
  }
 ]
}